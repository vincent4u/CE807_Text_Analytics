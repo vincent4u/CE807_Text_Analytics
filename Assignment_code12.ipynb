{
  "nbformat": 4,
  "nbformat_minor": 0,
  "metadata": {
    "colab": {
      "provenance": [],
      "include_colab_link": true
    },
    "kernelspec": {
      "name": "python3",
      "display_name": "Python 3"
    },
    "language_info": {
      "name": "python"
    },
    "widgets": {
      "application/vnd.jupyter.widget-state+json": {
        "5fa0a22cfeeb420fb3fe98db87cb329e": {
          "model_module": "@jupyter-widgets/controls",
          "model_name": "HBoxModel",
          "model_module_version": "1.5.0",
          "state": {
            "_dom_classes": [],
            "_model_module": "@jupyter-widgets/controls",
            "_model_module_version": "1.5.0",
            "_model_name": "HBoxModel",
            "_view_count": null,
            "_view_module": "@jupyter-widgets/controls",
            "_view_module_version": "1.5.0",
            "_view_name": "HBoxView",
            "box_style": "",
            "children": [
              "IPY_MODEL_d00a8858ed5245469d3c218367238b9b",
              "IPY_MODEL_faa0861858ea418ca612a485db03eac7",
              "IPY_MODEL_c2f6158fefa94596ba98b55f8f7d2e01"
            ],
            "layout": "IPY_MODEL_46701de4597b4fb895c5032e7377c186"
          }
        },
        "d00a8858ed5245469d3c218367238b9b": {
          "model_module": "@jupyter-widgets/controls",
          "model_name": "HTMLModel",
          "model_module_version": "1.5.0",
          "state": {
            "_dom_classes": [],
            "_model_module": "@jupyter-widgets/controls",
            "_model_module_version": "1.5.0",
            "_model_name": "HTMLModel",
            "_view_count": null,
            "_view_module": "@jupyter-widgets/controls",
            "_view_module_version": "1.5.0",
            "_view_name": "HTMLView",
            "description": "",
            "description_tooltip": null,
            "layout": "IPY_MODEL_6f17437407d7453ba34fb5d042940e0e",
            "placeholder": "​",
            "style": "IPY_MODEL_3d3758edd1754e6a8229497012cea3cb",
            "value": "Preprocessing train data: 100%"
          }
        },
        "faa0861858ea418ca612a485db03eac7": {
          "model_module": "@jupyter-widgets/controls",
          "model_name": "FloatProgressModel",
          "model_module_version": "1.5.0",
          "state": {
            "_dom_classes": [],
            "_model_module": "@jupyter-widgets/controls",
            "_model_module_version": "1.5.0",
            "_model_name": "FloatProgressModel",
            "_view_count": null,
            "_view_module": "@jupyter-widgets/controls",
            "_view_module_version": "1.5.0",
            "_view_name": "ProgressView",
            "bar_style": "success",
            "description": "",
            "description_tooltip": null,
            "layout": "IPY_MODEL_8b415c8860194f7eacf006a66e55a14e",
            "max": 8699,
            "min": 0,
            "orientation": "horizontal",
            "style": "IPY_MODEL_b924be1a8e0e441c93552b1ee8dd75b3",
            "value": 8699
          }
        },
        "c2f6158fefa94596ba98b55f8f7d2e01": {
          "model_module": "@jupyter-widgets/controls",
          "model_name": "HTMLModel",
          "model_module_version": "1.5.0",
          "state": {
            "_dom_classes": [],
            "_model_module": "@jupyter-widgets/controls",
            "_model_module_version": "1.5.0",
            "_model_name": "HTMLModel",
            "_view_count": null,
            "_view_module": "@jupyter-widgets/controls",
            "_view_module_version": "1.5.0",
            "_view_name": "HTMLView",
            "description": "",
            "description_tooltip": null,
            "layout": "IPY_MODEL_8b733c3309a44cbab7eecaa9c25c45e8",
            "placeholder": "​",
            "style": "IPY_MODEL_fbce9f74682243c7b065a8343a146453",
            "value": " 8699/8699 [00:08&lt;00:00, 736.20it/s]"
          }
        },
        "46701de4597b4fb895c5032e7377c186": {
          "model_module": "@jupyter-widgets/base",
          "model_name": "LayoutModel",
          "model_module_version": "1.2.0",
          "state": {
            "_model_module": "@jupyter-widgets/base",
            "_model_module_version": "1.2.0",
            "_model_name": "LayoutModel",
            "_view_count": null,
            "_view_module": "@jupyter-widgets/base",
            "_view_module_version": "1.2.0",
            "_view_name": "LayoutView",
            "align_content": null,
            "align_items": null,
            "align_self": null,
            "border": null,
            "bottom": null,
            "display": null,
            "flex": null,
            "flex_flow": null,
            "grid_area": null,
            "grid_auto_columns": null,
            "grid_auto_flow": null,
            "grid_auto_rows": null,
            "grid_column": null,
            "grid_gap": null,
            "grid_row": null,
            "grid_template_areas": null,
            "grid_template_columns": null,
            "grid_template_rows": null,
            "height": null,
            "justify_content": null,
            "justify_items": null,
            "left": null,
            "margin": null,
            "max_height": null,
            "max_width": null,
            "min_height": null,
            "min_width": null,
            "object_fit": null,
            "object_position": null,
            "order": null,
            "overflow": null,
            "overflow_x": null,
            "overflow_y": null,
            "padding": null,
            "right": null,
            "top": null,
            "visibility": null,
            "width": null
          }
        },
        "6f17437407d7453ba34fb5d042940e0e": {
          "model_module": "@jupyter-widgets/base",
          "model_name": "LayoutModel",
          "model_module_version": "1.2.0",
          "state": {
            "_model_module": "@jupyter-widgets/base",
            "_model_module_version": "1.2.0",
            "_model_name": "LayoutModel",
            "_view_count": null,
            "_view_module": "@jupyter-widgets/base",
            "_view_module_version": "1.2.0",
            "_view_name": "LayoutView",
            "align_content": null,
            "align_items": null,
            "align_self": null,
            "border": null,
            "bottom": null,
            "display": null,
            "flex": null,
            "flex_flow": null,
            "grid_area": null,
            "grid_auto_columns": null,
            "grid_auto_flow": null,
            "grid_auto_rows": null,
            "grid_column": null,
            "grid_gap": null,
            "grid_row": null,
            "grid_template_areas": null,
            "grid_template_columns": null,
            "grid_template_rows": null,
            "height": null,
            "justify_content": null,
            "justify_items": null,
            "left": null,
            "margin": null,
            "max_height": null,
            "max_width": null,
            "min_height": null,
            "min_width": null,
            "object_fit": null,
            "object_position": null,
            "order": null,
            "overflow": null,
            "overflow_x": null,
            "overflow_y": null,
            "padding": null,
            "right": null,
            "top": null,
            "visibility": null,
            "width": null
          }
        },
        "3d3758edd1754e6a8229497012cea3cb": {
          "model_module": "@jupyter-widgets/controls",
          "model_name": "DescriptionStyleModel",
          "model_module_version": "1.5.0",
          "state": {
            "_model_module": "@jupyter-widgets/controls",
            "_model_module_version": "1.5.0",
            "_model_name": "DescriptionStyleModel",
            "_view_count": null,
            "_view_module": "@jupyter-widgets/base",
            "_view_module_version": "1.2.0",
            "_view_name": "StyleView",
            "description_width": ""
          }
        },
        "8b415c8860194f7eacf006a66e55a14e": {
          "model_module": "@jupyter-widgets/base",
          "model_name": "LayoutModel",
          "model_module_version": "1.2.0",
          "state": {
            "_model_module": "@jupyter-widgets/base",
            "_model_module_version": "1.2.0",
            "_model_name": "LayoutModel",
            "_view_count": null,
            "_view_module": "@jupyter-widgets/base",
            "_view_module_version": "1.2.0",
            "_view_name": "LayoutView",
            "align_content": null,
            "align_items": null,
            "align_self": null,
            "border": null,
            "bottom": null,
            "display": null,
            "flex": null,
            "flex_flow": null,
            "grid_area": null,
            "grid_auto_columns": null,
            "grid_auto_flow": null,
            "grid_auto_rows": null,
            "grid_column": null,
            "grid_gap": null,
            "grid_row": null,
            "grid_template_areas": null,
            "grid_template_columns": null,
            "grid_template_rows": null,
            "height": null,
            "justify_content": null,
            "justify_items": null,
            "left": null,
            "margin": null,
            "max_height": null,
            "max_width": null,
            "min_height": null,
            "min_width": null,
            "object_fit": null,
            "object_position": null,
            "order": null,
            "overflow": null,
            "overflow_x": null,
            "overflow_y": null,
            "padding": null,
            "right": null,
            "top": null,
            "visibility": null,
            "width": null
          }
        },
        "b924be1a8e0e441c93552b1ee8dd75b3": {
          "model_module": "@jupyter-widgets/controls",
          "model_name": "ProgressStyleModel",
          "model_module_version": "1.5.0",
          "state": {
            "_model_module": "@jupyter-widgets/controls",
            "_model_module_version": "1.5.0",
            "_model_name": "ProgressStyleModel",
            "_view_count": null,
            "_view_module": "@jupyter-widgets/base",
            "_view_module_version": "1.2.0",
            "_view_name": "StyleView",
            "bar_color": null,
            "description_width": ""
          }
        },
        "8b733c3309a44cbab7eecaa9c25c45e8": {
          "model_module": "@jupyter-widgets/base",
          "model_name": "LayoutModel",
          "model_module_version": "1.2.0",
          "state": {
            "_model_module": "@jupyter-widgets/base",
            "_model_module_version": "1.2.0",
            "_model_name": "LayoutModel",
            "_view_count": null,
            "_view_module": "@jupyter-widgets/base",
            "_view_module_version": "1.2.0",
            "_view_name": "LayoutView",
            "align_content": null,
            "align_items": null,
            "align_self": null,
            "border": null,
            "bottom": null,
            "display": null,
            "flex": null,
            "flex_flow": null,
            "grid_area": null,
            "grid_auto_columns": null,
            "grid_auto_flow": null,
            "grid_auto_rows": null,
            "grid_column": null,
            "grid_gap": null,
            "grid_row": null,
            "grid_template_areas": null,
            "grid_template_columns": null,
            "grid_template_rows": null,
            "height": null,
            "justify_content": null,
            "justify_items": null,
            "left": null,
            "margin": null,
            "max_height": null,
            "max_width": null,
            "min_height": null,
            "min_width": null,
            "object_fit": null,
            "object_position": null,
            "order": null,
            "overflow": null,
            "overflow_x": null,
            "overflow_y": null,
            "padding": null,
            "right": null,
            "top": null,
            "visibility": null,
            "width": null
          }
        },
        "fbce9f74682243c7b065a8343a146453": {
          "model_module": "@jupyter-widgets/controls",
          "model_name": "DescriptionStyleModel",
          "model_module_version": "1.5.0",
          "state": {
            "_model_module": "@jupyter-widgets/controls",
            "_model_module_version": "1.5.0",
            "_model_name": "DescriptionStyleModel",
            "_view_count": null,
            "_view_module": "@jupyter-widgets/base",
            "_view_module_version": "1.2.0",
            "_view_name": "StyleView",
            "description_width": ""
          }
        },
        "e076b9346003455ba73539b98736b90d": {
          "model_module": "@jupyter-widgets/controls",
          "model_name": "HBoxModel",
          "model_module_version": "1.5.0",
          "state": {
            "_dom_classes": [],
            "_model_module": "@jupyter-widgets/controls",
            "_model_module_version": "1.5.0",
            "_model_name": "HBoxModel",
            "_view_count": null,
            "_view_module": "@jupyter-widgets/controls",
            "_view_module_version": "1.5.0",
            "_view_name": "HBoxView",
            "box_style": "",
            "children": [
              "IPY_MODEL_900ef2b8f7c542cabc7c083c32dbdbf4",
              "IPY_MODEL_eea0a52af9394aba980b0770541809db",
              "IPY_MODEL_a1d6b56ca21e40a2bec827e3c14ca087"
            ],
            "layout": "IPY_MODEL_5447ef3380cb4573890a727d55fadf21"
          }
        },
        "900ef2b8f7c542cabc7c083c32dbdbf4": {
          "model_module": "@jupyter-widgets/controls",
          "model_name": "HTMLModel",
          "model_module_version": "1.5.0",
          "state": {
            "_dom_classes": [],
            "_model_module": "@jupyter-widgets/controls",
            "_model_module_version": "1.5.0",
            "_model_name": "HTMLModel",
            "_view_count": null,
            "_view_module": "@jupyter-widgets/controls",
            "_view_module_version": "1.5.0",
            "_view_name": "HTMLView",
            "description": "",
            "description_tooltip": null,
            "layout": "IPY_MODEL_1057fb6155794ac8b7b041f5fca0cce3",
            "placeholder": "​",
            "style": "IPY_MODEL_af51825bbdd74feb88589efe4799aaa8",
            "value": "Preprocessing val data: 100%"
          }
        },
        "eea0a52af9394aba980b0770541809db": {
          "model_module": "@jupyter-widgets/controls",
          "model_name": "FloatProgressModel",
          "model_module_version": "1.5.0",
          "state": {
            "_dom_classes": [],
            "_model_module": "@jupyter-widgets/controls",
            "_model_module_version": "1.5.0",
            "_model_name": "FloatProgressModel",
            "_view_count": null,
            "_view_module": "@jupyter-widgets/controls",
            "_view_module_version": "1.5.0",
            "_view_name": "ProgressView",
            "bar_style": "success",
            "description": "",
            "description_tooltip": null,
            "layout": "IPY_MODEL_f0bdc9f852a642068f3bea5450d11310",
            "max": 2920,
            "min": 0,
            "orientation": "horizontal",
            "style": "IPY_MODEL_111452c9398d4005b0fd16ecf62ff90c",
            "value": 2920
          }
        },
        "a1d6b56ca21e40a2bec827e3c14ca087": {
          "model_module": "@jupyter-widgets/controls",
          "model_name": "HTMLModel",
          "model_module_version": "1.5.0",
          "state": {
            "_dom_classes": [],
            "_model_module": "@jupyter-widgets/controls",
            "_model_module_version": "1.5.0",
            "_model_name": "HTMLModel",
            "_view_count": null,
            "_view_module": "@jupyter-widgets/controls",
            "_view_module_version": "1.5.0",
            "_view_name": "HTMLView",
            "description": "",
            "description_tooltip": null,
            "layout": "IPY_MODEL_3c19b8a7a8ae43c0859055fd8913f9ce",
            "placeholder": "​",
            "style": "IPY_MODEL_87ede2552acb475c8c9e862a25293466",
            "value": " 2920/2920 [00:04&lt;00:00, 634.55it/s]"
          }
        },
        "5447ef3380cb4573890a727d55fadf21": {
          "model_module": "@jupyter-widgets/base",
          "model_name": "LayoutModel",
          "model_module_version": "1.2.0",
          "state": {
            "_model_module": "@jupyter-widgets/base",
            "_model_module_version": "1.2.0",
            "_model_name": "LayoutModel",
            "_view_count": null,
            "_view_module": "@jupyter-widgets/base",
            "_view_module_version": "1.2.0",
            "_view_name": "LayoutView",
            "align_content": null,
            "align_items": null,
            "align_self": null,
            "border": null,
            "bottom": null,
            "display": null,
            "flex": null,
            "flex_flow": null,
            "grid_area": null,
            "grid_auto_columns": null,
            "grid_auto_flow": null,
            "grid_auto_rows": null,
            "grid_column": null,
            "grid_gap": null,
            "grid_row": null,
            "grid_template_areas": null,
            "grid_template_columns": null,
            "grid_template_rows": null,
            "height": null,
            "justify_content": null,
            "justify_items": null,
            "left": null,
            "margin": null,
            "max_height": null,
            "max_width": null,
            "min_height": null,
            "min_width": null,
            "object_fit": null,
            "object_position": null,
            "order": null,
            "overflow": null,
            "overflow_x": null,
            "overflow_y": null,
            "padding": null,
            "right": null,
            "top": null,
            "visibility": null,
            "width": null
          }
        },
        "1057fb6155794ac8b7b041f5fca0cce3": {
          "model_module": "@jupyter-widgets/base",
          "model_name": "LayoutModel",
          "model_module_version": "1.2.0",
          "state": {
            "_model_module": "@jupyter-widgets/base",
            "_model_module_version": "1.2.0",
            "_model_name": "LayoutModel",
            "_view_count": null,
            "_view_module": "@jupyter-widgets/base",
            "_view_module_version": "1.2.0",
            "_view_name": "LayoutView",
            "align_content": null,
            "align_items": null,
            "align_self": null,
            "border": null,
            "bottom": null,
            "display": null,
            "flex": null,
            "flex_flow": null,
            "grid_area": null,
            "grid_auto_columns": null,
            "grid_auto_flow": null,
            "grid_auto_rows": null,
            "grid_column": null,
            "grid_gap": null,
            "grid_row": null,
            "grid_template_areas": null,
            "grid_template_columns": null,
            "grid_template_rows": null,
            "height": null,
            "justify_content": null,
            "justify_items": null,
            "left": null,
            "margin": null,
            "max_height": null,
            "max_width": null,
            "min_height": null,
            "min_width": null,
            "object_fit": null,
            "object_position": null,
            "order": null,
            "overflow": null,
            "overflow_x": null,
            "overflow_y": null,
            "padding": null,
            "right": null,
            "top": null,
            "visibility": null,
            "width": null
          }
        },
        "af51825bbdd74feb88589efe4799aaa8": {
          "model_module": "@jupyter-widgets/controls",
          "model_name": "DescriptionStyleModel",
          "model_module_version": "1.5.0",
          "state": {
            "_model_module": "@jupyter-widgets/controls",
            "_model_module_version": "1.5.0",
            "_model_name": "DescriptionStyleModel",
            "_view_count": null,
            "_view_module": "@jupyter-widgets/base",
            "_view_module_version": "1.2.0",
            "_view_name": "StyleView",
            "description_width": ""
          }
        },
        "f0bdc9f852a642068f3bea5450d11310": {
          "model_module": "@jupyter-widgets/base",
          "model_name": "LayoutModel",
          "model_module_version": "1.2.0",
          "state": {
            "_model_module": "@jupyter-widgets/base",
            "_model_module_version": "1.2.0",
            "_model_name": "LayoutModel",
            "_view_count": null,
            "_view_module": "@jupyter-widgets/base",
            "_view_module_version": "1.2.0",
            "_view_name": "LayoutView",
            "align_content": null,
            "align_items": null,
            "align_self": null,
            "border": null,
            "bottom": null,
            "display": null,
            "flex": null,
            "flex_flow": null,
            "grid_area": null,
            "grid_auto_columns": null,
            "grid_auto_flow": null,
            "grid_auto_rows": null,
            "grid_column": null,
            "grid_gap": null,
            "grid_row": null,
            "grid_template_areas": null,
            "grid_template_columns": null,
            "grid_template_rows": null,
            "height": null,
            "justify_content": null,
            "justify_items": null,
            "left": null,
            "margin": null,
            "max_height": null,
            "max_width": null,
            "min_height": null,
            "min_width": null,
            "object_fit": null,
            "object_position": null,
            "order": null,
            "overflow": null,
            "overflow_x": null,
            "overflow_y": null,
            "padding": null,
            "right": null,
            "top": null,
            "visibility": null,
            "width": null
          }
        },
        "111452c9398d4005b0fd16ecf62ff90c": {
          "model_module": "@jupyter-widgets/controls",
          "model_name": "ProgressStyleModel",
          "model_module_version": "1.5.0",
          "state": {
            "_model_module": "@jupyter-widgets/controls",
            "_model_module_version": "1.5.0",
            "_model_name": "ProgressStyleModel",
            "_view_count": null,
            "_view_module": "@jupyter-widgets/base",
            "_view_module_version": "1.2.0",
            "_view_name": "StyleView",
            "bar_color": null,
            "description_width": ""
          }
        },
        "3c19b8a7a8ae43c0859055fd8913f9ce": {
          "model_module": "@jupyter-widgets/base",
          "model_name": "LayoutModel",
          "model_module_version": "1.2.0",
          "state": {
            "_model_module": "@jupyter-widgets/base",
            "_model_module_version": "1.2.0",
            "_model_name": "LayoutModel",
            "_view_count": null,
            "_view_module": "@jupyter-widgets/base",
            "_view_module_version": "1.2.0",
            "_view_name": "LayoutView",
            "align_content": null,
            "align_items": null,
            "align_self": null,
            "border": null,
            "bottom": null,
            "display": null,
            "flex": null,
            "flex_flow": null,
            "grid_area": null,
            "grid_auto_columns": null,
            "grid_auto_flow": null,
            "grid_auto_rows": null,
            "grid_column": null,
            "grid_gap": null,
            "grid_row": null,
            "grid_template_areas": null,
            "grid_template_columns": null,
            "grid_template_rows": null,
            "height": null,
            "justify_content": null,
            "justify_items": null,
            "left": null,
            "margin": null,
            "max_height": null,
            "max_width": null,
            "min_height": null,
            "min_width": null,
            "object_fit": null,
            "object_position": null,
            "order": null,
            "overflow": null,
            "overflow_x": null,
            "overflow_y": null,
            "padding": null,
            "right": null,
            "top": null,
            "visibility": null,
            "width": null
          }
        },
        "87ede2552acb475c8c9e862a25293466": {
          "model_module": "@jupyter-widgets/controls",
          "model_name": "DescriptionStyleModel",
          "model_module_version": "1.5.0",
          "state": {
            "_model_module": "@jupyter-widgets/controls",
            "_model_module_version": "1.5.0",
            "_model_name": "DescriptionStyleModel",
            "_view_count": null,
            "_view_module": "@jupyter-widgets/base",
            "_view_module_version": "1.2.0",
            "_view_name": "StyleView",
            "description_width": ""
          }
        }
      }
    }
  },
  "cells": [
    {
      "cell_type": "markdown",
      "metadata": {
        "id": "view-in-github",
        "colab_type": "text"
      },
      "source": [
        "<a href=\"https://colab.research.google.com/github/vincent4u/CE807_Text_Analytics/blob/main/Assignment_code12.ipynb\" target=\"_parent\"><img src=\"https://colab.research.google.com/assets/colab-badge.svg\" alt=\"Open In Colab\"/></a>"
      ]
    },
    {
      "cell_type": "markdown",
      "source": [
        "# Student ID: 2314555\n",
        "Vincent Nnamdi UGWAH\n",
        "\n"
      ],
      "metadata": {
        "id": "VgzEm1gDYBUp"
      }
    },
    {
      "cell_type": "markdown",
      "source": [
        "Installing all required libraries."
      ],
      "metadata": {
        "id": "_3ZWJlO6JOqY"
      }
    },
    {
      "cell_type": "code",
      "source": [
        "import numpy as np\n",
        "import os\n",
        "import pickle\n",
        "import pandas as pd\n",
        "from sklearn.metrics import accuracy_score, recall_score, precision_score, f1_score\n",
        "from sklearn.metrics import confusion_matrix\n",
        "\n",
        "import pandas as pd\n",
        "from sklearn.feature_extraction.text import TfidfVectorizer\n",
        "from sklearn.naive_bayes import MultinomialNB\n",
        "from sklearn.pipeline import Pipeline\n",
        "from nltk.corpus import stopwords\n",
        "from nltk.stem import WordNetLemmatizer\n",
        "import nltk\n",
        "import re\n",
        "from tqdm import tqdm\n",
        "\n",
        "nltk.download('punkt')\n",
        "nltk.download('stopwords')\n",
        "nltk.download('wordnet')"
      ],
      "metadata": {
        "id": "TKEZRYhIImbg",
        "colab": {
          "base_uri": "https://localhost:8080/"
        },
        "outputId": "035f99f8-5b41-4bc2-99c6-5474efc0f76a"
      },
      "execution_count": 30,
      "outputs": [
        {
          "output_type": "stream",
          "name": "stderr",
          "text": [
            "[nltk_data] Downloading package punkt to /root/nltk_data...\n",
            "[nltk_data]   Package punkt is already up-to-date!\n",
            "[nltk_data] Downloading package stopwords to /root/nltk_data...\n",
            "[nltk_data]   Package stopwords is already up-to-date!\n",
            "[nltk_data] Downloading package wordnet to /root/nltk_data...\n",
            "[nltk_data]   Package wordnet is already up-to-date!\n"
          ]
        },
        {
          "output_type": "execute_result",
          "data": {
            "text/plain": [
              "True"
            ]
          },
          "metadata": {},
          "execution_count": 30
        }
      ]
    },
    {
      "cell_type": "markdown",
      "source": [
        "**student id input as a variable for seeding**"
      ],
      "metadata": {
        "id": "pd5kSsAPZoE6"
      }
    },
    {
      "cell_type": "code",
      "source": [
        "student_id = 2314555  #my student reg number"
      ],
      "metadata": {
        "id": "rqP6pp_3ZkVy"
      },
      "execution_count": 31,
      "outputs": []
    },
    {
      "cell_type": "markdown",
      "source": [
        "Let's set `seed` for all libraries like `torch`, `numpy` etc as my student id"
      ],
      "metadata": {
        "id": "RiLUrQ-3zC6V"
      }
    },
    {
      "cell_type": "code",
      "source": [
        "# setting studen_id as same seeds for all libraries\n",
        "\n",
        "#numpy seed\n",
        "np.random.seed(student_id)"
      ],
      "metadata": {
        "id": "TYUn2tj3zCFq"
      },
      "execution_count": 32,
      "outputs": []
    },
    {
      "cell_type": "markdown",
      "source": [
        "# Common Codes\n",
        "\n",
        "This section includes all common codes, for examples\n",
        "\n",
        "\n",
        "*   Data read\n",
        "*   Command Line argument reading\n",
        "*   Performance Matrics\n",
        "*   Print Dataset Statistics\n",
        "*   Saving model and output\n",
        "*   Loading Model and output\n",
        "*   etc\n",
        "\n",
        "\n"
      ],
      "metadata": {
        "id": "Dlj_VQrkbLgM"
      }
    },
    {
      "cell_type": "markdown",
      "source": [
        "**Setting first the GDrive to access and set data and model paths**\n",
        "\n",
        "For examples,\n",
        "\n",
        "student_id = 12345670\n",
        "\n",
        "set GOOGLE_DRIVE_PATH_AFTER_MYDRIVE = ‘./CE807-24-SP/Lab10/’ in your GDrive\n",
        "\n",
        "now set all global variable,\n",
        "\n",
        "\n",
        "Sample output directory and file structure: https://drive.google.com/drive/folders/1okgSzgGiwPYYFp7NScEt9MNVolOlld1d?usp=share_link   "
      ],
      "metadata": {
        "id": "uOESFmIPn_nr"
      }
    },
    {
      "cell_type": "code",
      "source": [
        "# Mount Google Drive\n",
        "from google.colab import drive\n",
        "drive.mount('/content/gdrive', force_remount=True)"
      ],
      "metadata": {
        "id": "L1kvIe1NbDoS",
        "colab": {
          "base_uri": "https://localhost:8080/"
        },
        "outputId": "b600c971-2067-42d7-b847-65cc96b5e198"
      },
      "execution_count": 4,
      "outputs": [
        {
          "output_type": "stream",
          "name": "stdout",
          "text": [
            "Mounted at /content/gdrive\n"
          ]
        }
      ]
    },
    {
      "cell_type": "code",
      "source": [
        "# Initializing GDrive and data and models paths\n",
        "\n",
        "GOOGLE_DRIVE_PATH_AFTER_MYDRIVE = './CE807-24-SP/Assignment/'\n",
        "GOOGLE_DRIVE_PATH = os.path.join('gdrive', 'MyDrive', GOOGLE_DRIVE_PATH_AFTER_MYDRIVE)\n",
        "print('List files: ', os.listdir(GOOGLE_DRIVE_PATH))\n",
        "\n",
        "DATA_PATH = os.path.join(GOOGLE_DRIVE_PATH, 'data', '5') # Directing path to data type 5, since my student numbers ends with 5\n",
        "train_file = os.path.join(DATA_PATH, 'train.csv')         # Reading the Train CSV file\n",
        "print('Train file: ', train_file)\n",
        "\n",
        "val_file = os.path.join(DATA_PATH, 'valid.csv')           # Reading the Validation CSV file\n",
        "print('Validation file: ', val_file)\n",
        "\n",
        "test_file = os.path.join(DATA_PATH, 'test.csv')            # Reading the Test CSV file\n",
        "print('Test file: ', test_file)\n",
        "\n",
        "\n",
        "MODEL_PATH = os.path.join(GOOGLE_DRIVE_PATH, 'model', str(student_id)) # Making sure to use student Regitration number already called in the begining\n",
        "MODEL_Gen_DIRECTORY = os.path.join(MODEL_PATH, 'Model_Gen')            # Creating Path to Model Generative directory\n",
        "print('Model Generative directory: ', MODEL_Gen_DIRECTORY)\n",
        "\n",
        "MODEL_Gen_File = MODEL_Gen_DIRECTORY + '.zip'\n",
        "\n",
        "\n",
        "MODEL_Dis_DIRECTORY = os.path.join(MODEL_PATH, 'Model_Dis')           # Creating Path to Model Discriminative directory\n",
        "print('Model Discriminative directory: ', MODEL_Dis_DIRECTORY)\n",
        "\n",
        "MODEL_Dis_File = MODEL_Dis_DIRECTORY + '.zip'                         # Zipping the FIle\n"
      ],
      "metadata": {
        "id": "-WKnbP3roLTj",
        "colab": {
          "base_uri": "https://localhost:8080/"
        },
        "outputId": "cd580d42-986a-44c8-ea5c-1c1d7ff5ab07"
      },
      "execution_count": 33,
      "outputs": [
        {
          "output_type": "stream",
          "name": "stdout",
          "text": [
            "List files:  ['data', 'model']\n",
            "Train file:  gdrive/MyDrive/./CE807-24-SP/Assignment/data/5/train.csv\n",
            "Validation file:  gdrive/MyDrive/./CE807-24-SP/Assignment/data/5/valid.csv\n",
            "Test file:  gdrive/MyDrive/./CE807-24-SP/Assignment/data/5/test.csv\n",
            "Model Generative directory:  gdrive/MyDrive/./CE807-24-SP/Assignment/model/2314555/Model_Gen\n",
            "Model Discriminative directory:  gdrive/MyDrive/./CE807-24-SP/Assignment/model/2314555/Model_Dis\n"
          ]
        }
      ]
    },
    {
      "cell_type": "markdown",
      "source": [
        "Visualing the train file for possible steps to Preprocessing"
      ],
      "metadata": {
        "id": "0pWvXDghtafa"
      }
    },
    {
      "cell_type": "code",
      "source": [
        "train_df = pd.read_csv(train_file)\n",
        "train_df.head()"
      ],
      "metadata": {
        "colab": {
          "base_uri": "https://localhost:8080/",
          "height": 206
        },
        "id": "DE20RqYGtZjZ",
        "outputId": "28d62baa-6d9a-42c1-feb6-dcd8b92298ed"
      },
      "execution_count": 34,
      "outputs": [
        {
          "output_type": "execute_result",
          "data": {
            "text/plain": [
              "    comment_id                                            comment  split  \\\n",
              "0  579986655.0  SDATA_5 :  NEWLINE_TOKENNEWLINE_TOKEN== Kinder...  train   \n",
              "1   86029332.0  SDATA_5 :  NEWLINE_TOKENNEWLINE_TOKENDo not vi...  train   \n",
              "2  169864624.0  SDATA_5 :  NEWLINE_TOKEN:::Judging by some of ...  train   \n",
              "3   96482757.0        SDATA_5 :  I LOVE FATTY SEX MMMM  : EDATA_5  train   \n",
              "4  327661902.0  SDATA_5 :  NEWLINE_TOKEN:Please, could you exp...  train   \n",
              "\n",
              "   toxicity  \n",
              "0         0  \n",
              "1         0  \n",
              "2         0  \n",
              "3         0  \n",
              "4         0  "
            ],
            "text/html": [
              "\n",
              "  <div id=\"df-a0d94ef2-8f21-4837-9f78-fad0aa59660f\" class=\"colab-df-container\">\n",
              "    <div>\n",
              "<style scoped>\n",
              "    .dataframe tbody tr th:only-of-type {\n",
              "        vertical-align: middle;\n",
              "    }\n",
              "\n",
              "    .dataframe tbody tr th {\n",
              "        vertical-align: top;\n",
              "    }\n",
              "\n",
              "    .dataframe thead th {\n",
              "        text-align: right;\n",
              "    }\n",
              "</style>\n",
              "<table border=\"1\" class=\"dataframe\">\n",
              "  <thead>\n",
              "    <tr style=\"text-align: right;\">\n",
              "      <th></th>\n",
              "      <th>comment_id</th>\n",
              "      <th>comment</th>\n",
              "      <th>split</th>\n",
              "      <th>toxicity</th>\n",
              "    </tr>\n",
              "  </thead>\n",
              "  <tbody>\n",
              "    <tr>\n",
              "      <th>0</th>\n",
              "      <td>579986655.0</td>\n",
              "      <td>SDATA_5 :  NEWLINE_TOKENNEWLINE_TOKEN== Kinder...</td>\n",
              "      <td>train</td>\n",
              "      <td>0</td>\n",
              "    </tr>\n",
              "    <tr>\n",
              "      <th>1</th>\n",
              "      <td>86029332.0</td>\n",
              "      <td>SDATA_5 :  NEWLINE_TOKENNEWLINE_TOKENDo not vi...</td>\n",
              "      <td>train</td>\n",
              "      <td>0</td>\n",
              "    </tr>\n",
              "    <tr>\n",
              "      <th>2</th>\n",
              "      <td>169864624.0</td>\n",
              "      <td>SDATA_5 :  NEWLINE_TOKEN:::Judging by some of ...</td>\n",
              "      <td>train</td>\n",
              "      <td>0</td>\n",
              "    </tr>\n",
              "    <tr>\n",
              "      <th>3</th>\n",
              "      <td>96482757.0</td>\n",
              "      <td>SDATA_5 :  I LOVE FATTY SEX MMMM  : EDATA_5</td>\n",
              "      <td>train</td>\n",
              "      <td>0</td>\n",
              "    </tr>\n",
              "    <tr>\n",
              "      <th>4</th>\n",
              "      <td>327661902.0</td>\n",
              "      <td>SDATA_5 :  NEWLINE_TOKEN:Please, could you exp...</td>\n",
              "      <td>train</td>\n",
              "      <td>0</td>\n",
              "    </tr>\n",
              "  </tbody>\n",
              "</table>\n",
              "</div>\n",
              "    <div class=\"colab-df-buttons\">\n",
              "\n",
              "  <div class=\"colab-df-container\">\n",
              "    <button class=\"colab-df-convert\" onclick=\"convertToInteractive('df-a0d94ef2-8f21-4837-9f78-fad0aa59660f')\"\n",
              "            title=\"Convert this dataframe to an interactive table.\"\n",
              "            style=\"display:none;\">\n",
              "\n",
              "  <svg xmlns=\"http://www.w3.org/2000/svg\" height=\"24px\" viewBox=\"0 -960 960 960\">\n",
              "    <path d=\"M120-120v-720h720v720H120Zm60-500h600v-160H180v160Zm220 220h160v-160H400v160Zm0 220h160v-160H400v160ZM180-400h160v-160H180v160Zm440 0h160v-160H620v160ZM180-180h160v-160H180v160Zm440 0h160v-160H620v160Z\"/>\n",
              "  </svg>\n",
              "    </button>\n",
              "\n",
              "  <style>\n",
              "    .colab-df-container {\n",
              "      display:flex;\n",
              "      gap: 12px;\n",
              "    }\n",
              "\n",
              "    .colab-df-convert {\n",
              "      background-color: #E8F0FE;\n",
              "      border: none;\n",
              "      border-radius: 50%;\n",
              "      cursor: pointer;\n",
              "      display: none;\n",
              "      fill: #1967D2;\n",
              "      height: 32px;\n",
              "      padding: 0 0 0 0;\n",
              "      width: 32px;\n",
              "    }\n",
              "\n",
              "    .colab-df-convert:hover {\n",
              "      background-color: #E2EBFA;\n",
              "      box-shadow: 0px 1px 2px rgba(60, 64, 67, 0.3), 0px 1px 3px 1px rgba(60, 64, 67, 0.15);\n",
              "      fill: #174EA6;\n",
              "    }\n",
              "\n",
              "    .colab-df-buttons div {\n",
              "      margin-bottom: 4px;\n",
              "    }\n",
              "\n",
              "    [theme=dark] .colab-df-convert {\n",
              "      background-color: #3B4455;\n",
              "      fill: #D2E3FC;\n",
              "    }\n",
              "\n",
              "    [theme=dark] .colab-df-convert:hover {\n",
              "      background-color: #434B5C;\n",
              "      box-shadow: 0px 1px 3px 1px rgba(0, 0, 0, 0.15);\n",
              "      filter: drop-shadow(0px 1px 2px rgba(0, 0, 0, 0.3));\n",
              "      fill: #FFFFFF;\n",
              "    }\n",
              "  </style>\n",
              "\n",
              "    <script>\n",
              "      const buttonEl =\n",
              "        document.querySelector('#df-a0d94ef2-8f21-4837-9f78-fad0aa59660f button.colab-df-convert');\n",
              "      buttonEl.style.display =\n",
              "        google.colab.kernel.accessAllowed ? 'block' : 'none';\n",
              "\n",
              "      async function convertToInteractive(key) {\n",
              "        const element = document.querySelector('#df-a0d94ef2-8f21-4837-9f78-fad0aa59660f');\n",
              "        const dataTable =\n",
              "          await google.colab.kernel.invokeFunction('convertToInteractive',\n",
              "                                                    [key], {});\n",
              "        if (!dataTable) return;\n",
              "\n",
              "        const docLinkHtml = 'Like what you see? Visit the ' +\n",
              "          '<a target=\"_blank\" href=https://colab.research.google.com/notebooks/data_table.ipynb>data table notebook</a>'\n",
              "          + ' to learn more about interactive tables.';\n",
              "        element.innerHTML = '';\n",
              "        dataTable['output_type'] = 'display_data';\n",
              "        await google.colab.output.renderOutput(dataTable, element);\n",
              "        const docLink = document.createElement('div');\n",
              "        docLink.innerHTML = docLinkHtml;\n",
              "        element.appendChild(docLink);\n",
              "      }\n",
              "    </script>\n",
              "  </div>\n",
              "\n",
              "\n",
              "<div id=\"df-96541fc2-3a07-43d4-9afe-5491ca0ea5f2\">\n",
              "  <button class=\"colab-df-quickchart\" onclick=\"quickchart('df-96541fc2-3a07-43d4-9afe-5491ca0ea5f2')\"\n",
              "            title=\"Suggest charts\"\n",
              "            style=\"display:none;\">\n",
              "\n",
              "<svg xmlns=\"http://www.w3.org/2000/svg\" height=\"24px\"viewBox=\"0 0 24 24\"\n",
              "     width=\"24px\">\n",
              "    <g>\n",
              "        <path d=\"M19 3H5c-1.1 0-2 .9-2 2v14c0 1.1.9 2 2 2h14c1.1 0 2-.9 2-2V5c0-1.1-.9-2-2-2zM9 17H7v-7h2v7zm4 0h-2V7h2v10zm4 0h-2v-4h2v4z\"/>\n",
              "    </g>\n",
              "</svg>\n",
              "  </button>\n",
              "\n",
              "<style>\n",
              "  .colab-df-quickchart {\n",
              "      --bg-color: #E8F0FE;\n",
              "      --fill-color: #1967D2;\n",
              "      --hover-bg-color: #E2EBFA;\n",
              "      --hover-fill-color: #174EA6;\n",
              "      --disabled-fill-color: #AAA;\n",
              "      --disabled-bg-color: #DDD;\n",
              "  }\n",
              "\n",
              "  [theme=dark] .colab-df-quickchart {\n",
              "      --bg-color: #3B4455;\n",
              "      --fill-color: #D2E3FC;\n",
              "      --hover-bg-color: #434B5C;\n",
              "      --hover-fill-color: #FFFFFF;\n",
              "      --disabled-bg-color: #3B4455;\n",
              "      --disabled-fill-color: #666;\n",
              "  }\n",
              "\n",
              "  .colab-df-quickchart {\n",
              "    background-color: var(--bg-color);\n",
              "    border: none;\n",
              "    border-radius: 50%;\n",
              "    cursor: pointer;\n",
              "    display: none;\n",
              "    fill: var(--fill-color);\n",
              "    height: 32px;\n",
              "    padding: 0;\n",
              "    width: 32px;\n",
              "  }\n",
              "\n",
              "  .colab-df-quickchart:hover {\n",
              "    background-color: var(--hover-bg-color);\n",
              "    box-shadow: 0 1px 2px rgba(60, 64, 67, 0.3), 0 1px 3px 1px rgba(60, 64, 67, 0.15);\n",
              "    fill: var(--button-hover-fill-color);\n",
              "  }\n",
              "\n",
              "  .colab-df-quickchart-complete:disabled,\n",
              "  .colab-df-quickchart-complete:disabled:hover {\n",
              "    background-color: var(--disabled-bg-color);\n",
              "    fill: var(--disabled-fill-color);\n",
              "    box-shadow: none;\n",
              "  }\n",
              "\n",
              "  .colab-df-spinner {\n",
              "    border: 2px solid var(--fill-color);\n",
              "    border-color: transparent;\n",
              "    border-bottom-color: var(--fill-color);\n",
              "    animation:\n",
              "      spin 1s steps(1) infinite;\n",
              "  }\n",
              "\n",
              "  @keyframes spin {\n",
              "    0% {\n",
              "      border-color: transparent;\n",
              "      border-bottom-color: var(--fill-color);\n",
              "      border-left-color: var(--fill-color);\n",
              "    }\n",
              "    20% {\n",
              "      border-color: transparent;\n",
              "      border-left-color: var(--fill-color);\n",
              "      border-top-color: var(--fill-color);\n",
              "    }\n",
              "    30% {\n",
              "      border-color: transparent;\n",
              "      border-left-color: var(--fill-color);\n",
              "      border-top-color: var(--fill-color);\n",
              "      border-right-color: var(--fill-color);\n",
              "    }\n",
              "    40% {\n",
              "      border-color: transparent;\n",
              "      border-right-color: var(--fill-color);\n",
              "      border-top-color: var(--fill-color);\n",
              "    }\n",
              "    60% {\n",
              "      border-color: transparent;\n",
              "      border-right-color: var(--fill-color);\n",
              "    }\n",
              "    80% {\n",
              "      border-color: transparent;\n",
              "      border-right-color: var(--fill-color);\n",
              "      border-bottom-color: var(--fill-color);\n",
              "    }\n",
              "    90% {\n",
              "      border-color: transparent;\n",
              "      border-bottom-color: var(--fill-color);\n",
              "    }\n",
              "  }\n",
              "</style>\n",
              "\n",
              "  <script>\n",
              "    async function quickchart(key) {\n",
              "      const quickchartButtonEl =\n",
              "        document.querySelector('#' + key + ' button');\n",
              "      quickchartButtonEl.disabled = true;  // To prevent multiple clicks.\n",
              "      quickchartButtonEl.classList.add('colab-df-spinner');\n",
              "      try {\n",
              "        const charts = await google.colab.kernel.invokeFunction(\n",
              "            'suggestCharts', [key], {});\n",
              "      } catch (error) {\n",
              "        console.error('Error during call to suggestCharts:', error);\n",
              "      }\n",
              "      quickchartButtonEl.classList.remove('colab-df-spinner');\n",
              "      quickchartButtonEl.classList.add('colab-df-quickchart-complete');\n",
              "    }\n",
              "    (() => {\n",
              "      let quickchartButtonEl =\n",
              "        document.querySelector('#df-96541fc2-3a07-43d4-9afe-5491ca0ea5f2 button');\n",
              "      quickchartButtonEl.style.display =\n",
              "        google.colab.kernel.accessAllowed ? 'block' : 'none';\n",
              "    })();\n",
              "  </script>\n",
              "</div>\n",
              "    </div>\n",
              "  </div>\n"
            ],
            "application/vnd.google.colaboratory.intrinsic+json": {
              "type": "dataframe",
              "variable_name": "train_df",
              "summary": "{\n  \"name\": \"train_df\",\n  \"rows\": 8699,\n  \"fields\": [\n    {\n      \"column\": \"comment_id\",\n      \"properties\": {\n        \"dtype\": \"number\",\n        \"std\": 198025367.62174422,\n        \"min\": 37330.0,\n        \"max\": 699755057.0,\n        \"num_unique_values\": 8699,\n        \"samples\": [\n          611808016.0,\n          377842502.0,\n          390911563.0\n        ],\n        \"semantic_type\": \"\",\n        \"description\": \"\"\n      }\n    },\n    {\n      \"column\": \"comment\",\n      \"properties\": {\n        \"dtype\": \"string\",\n        \"num_unique_values\": 8699,\n        \"samples\": [\n          \"SDATA_5 :  NEWLINE_TOKENNEWLINE_TOKEN== Awww, man... ==NEWLINE_TOKENNEWLINE_TOKEN...this ruins everything!     : EDATA_5\",\n          \"SDATA_5 :  `NEWLINE_TOKENNEWLINE_TOKENNEWLINE_TOKENHa! nice novice move there, go straight for the ``block``.  Have fun ya'll!  so, in middle school, were you more afraid of football players, bathrooms, or detention hall?   `  : EDATA_5\",\n          \"SDATA_5 :  `:22, 15 October 2010 (UTC)NEWLINE_TOKENNEWLINE_TOKEN:::You are being a hypocrite yourself in the regard that you yourself violated Improper Consensus Building when you ignored the discussion dating back from December 2009. You are simply abusing user power then accusing me of doing so. You also ignored my requests to wait until an Admin settles this, and then lied saying that ``I want to work together with you`` when it appears you have no intention. The record is all there. Why you continue to lie in the face of the record being present is appalling. You yourself need to read this: How experienced editors avoid being dragged into edit wars. The Administrator will see in the record that you continue to ignore, that you made zero attempt to engage in discussion. You need to read this carefully yourself:NEWLINE_TOKEN[is consensus?]NEWLINE_TOKENHow not to achieve consensusNEWLINE_TOKENDon't edit war.NEWLINE_TOKENDon't simply state your position over and over, without explaining your underlying concerns and interests.NEWLINE_TOKENDon't canvass other editors who agree with you.NEWLINE_TOKENDon't give up when people disagree on a specific proposal.NEWLINE_TOKENDon't take a hard line position to extract concessions from other editors. This often backfires, and undermines the reasonableness of your viewpoint.NEWLINE_TOKENDon't question the other party's motive.NEWLINE_TOKENYou  also reverted Financial North too 4 times in 24 hours as well. I can and will also say you and Binksternet are ganging up on me which constitutes as abuse. I've filed a WQA against you and Binksternet.NEWLINE_TOKEN  13`  : EDATA_5\"\n        ],\n        \"semantic_type\": \"\",\n        \"description\": \"\"\n      }\n    },\n    {\n      \"column\": \"split\",\n      \"properties\": {\n        \"dtype\": \"category\",\n        \"num_unique_values\": 1,\n        \"samples\": [\n          \"train\"\n        ],\n        \"semantic_type\": \"\",\n        \"description\": \"\"\n      }\n    },\n    {\n      \"column\": \"toxicity\",\n      \"properties\": {\n        \"dtype\": \"number\",\n        \"std\": 0,\n        \"min\": 0,\n        \"max\": 1,\n        \"num_unique_values\": 2,\n        \"samples\": [\n          1\n        ],\n        \"semantic_type\": \"\",\n        \"description\": \"\"\n      }\n    }\n  ]\n}"
            }
          },
          "metadata": {},
          "execution_count": 34
        }
      ]
    },
    {
      "cell_type": "markdown",
      "source": [
        "# ***Computing the Performance Metrics***\n",
        "I am going to use different performance matrics like Accuracy, Recall (macro), Precision (macro), F1 (macro) and Confusion Matrix for the performance evaluation. This will print all the matrics and display Confusion Matrix with proper X & Y axis labels"
      ],
      "metadata": {
        "id": "E-OjJ4REbhcj"
      }
    },
    {
      "cell_type": "code",
      "source": [
        "#Writting the function for the computing the performance metrics\n",
        "\n",
        "def compute_performance(y_true, y_pred):\n",
        "    # Computing metrics\n",
        "    accuracy = accuracy_score(y_true, y_pred)\n",
        "    recall = recall_score(y_true, y_pred, average='macro')\n",
        "    precision = precision_score(y_true, y_pred, average='macro')\n",
        "    f1 = f1_score(y_true, y_pred, average='macro')\n",
        "\n",
        "    # Print metrics\n",
        "    print('Accuracy:', accuracy)\n",
        "    print('Recall (macro):', recall)\n",
        "    print('Precision (macro):', precision)\n",
        "    print('F1 Score (macro):', f1)\n",
        "\n",
        "    # Compute and print confusion matrix\n",
        "    labels = np.unique(np.concatenate((y_true, y_pred)))\n",
        "    cm = confusion_matrix(y_true, y_pred, labels=labels)\n",
        "    print('Confusion Matrix:')\n",
        "    print(cm)\n",
        "\n",
        "    return f1"
      ],
      "metadata": {
        "id": "aLuUu5BWcTid"
      },
      "execution_count": 35,
      "outputs": []
    },
    {
      "cell_type": "markdown",
      "source": [
        "# ***Saving and Loading Model ***"
      ],
      "metadata": {
        "id": "lJRaUhcCPQBq"
      }
    },
    {
      "cell_type": "code",
      "source": [
        "\n",
        "def save_model(model,model_dir):\n",
        "  # save the model to disk\n",
        "  # Check if the Model directory exists\n",
        "\n",
        "  if not os.path.exists(model_dir):\n",
        "      # Creating the directory if it doesn't exist\n",
        "      os.makedirs(model_dir)\n",
        "      print(f\"Directory '{model_dir}' created successfully.\")\n",
        "  else:\n",
        "      print(f\"Directory '{model_dir}' already exists.\")\n",
        "\n",
        "  model_file = os.path.join(model_dir, 'model.sav')\n",
        "  pickle.dump(model, open(model_file, 'wb'))\n",
        "\n",
        "  print('Saved model to ', model_file)\n",
        "\n",
        "  return model_file\n",
        "\n",
        "def load_model(model_file):\n",
        "    # loading model from disk\n",
        "\n",
        "    model = pickle.load(open(model_file, 'rb'))\n",
        "\n",
        "    print('Loaded model from ', model_file)\n",
        "\n",
        "    return model"
      ],
      "metadata": {
        "id": "hYwuqlPE5mnr"
      },
      "execution_count": 36,
      "outputs": []
    },
    {
      "cell_type": "markdown",
      "source": [
        "# Downloading GDrive Link into a directory"
      ],
      "metadata": {
        "id": "Es_jkptAU4rK"
      }
    },
    {
      "cell_type": "code",
      "source": [
        "import requests\n",
        "\n",
        "def extract_file_id_from_url(url):\n",
        "    # Extract the file ID from the URL\n",
        "    file_id = None\n",
        "    if 'drive.google.com' in url:\n",
        "        file_id = url.split('/')[-2]\n",
        "    elif 'https://docs.google.com' in url:\n",
        "        file_id = url.split('/')[-1]\n",
        "\n",
        "    return file_id\n",
        "\n",
        "def download_file_from_drive(file_id, file_path):\n",
        "    # Constructing the download URL\n",
        "    download_url = f\"https://drive.google.com/uc?id={file_id}\"\n",
        "\n",
        "    # Download the file\n",
        "    response = requests.get(download_url)\n",
        "    if response.status_code == 200:\n",
        "        with open(file_path, 'wb') as f:\n",
        "            f.write(response.content)\n",
        "        print(\"File downloaded successfully!\",file_path)\n",
        "    else:\n",
        "        print(\"Failed to download the file.\")\n",
        "\n",
        "def download_zip_file_from_link(file_url,file_path):\n",
        "\n",
        "  file_id = extract_file_id_from_url(file_url)\n",
        "  if file_id:\n",
        "      download_file_from_drive(file_id, file_path)\n",
        "  else:\n",
        "      print(\"Invalid Google Drive URL.\")\n"
      ],
      "metadata": {
        "id": "crNmol_BUxbl"
      },
      "execution_count": 37,
      "outputs": []
    },
    {
      "cell_type": "markdown",
      "source": [
        "# Zip and Unzip a GDrive File"
      ],
      "metadata": {
        "id": "PN9mRxr_VVzO"
      }
    },
    {
      "cell_type": "code",
      "source": [
        "import zipfile\n",
        "import shutil\n",
        "import os\n",
        "\n",
        "# Function to zip a directory\n",
        "def zip_directory(directory, zip_filename):\n",
        "    with zipfile.ZipFile(zip_filename, 'w', zipfile.ZIP_DEFLATED) as zipf:\n",
        "        for root, dirs, files in os.walk(directory):\n",
        "            for file in files:\n",
        "                zipf.write(os.path.join(root, file), os.path.relpath(os.path.join(root, file), os.path.join(directory, '..')))\n",
        "        print('Created a zip file',zip_filename)\n",
        "\n",
        "# Function to unzip a zip file\n",
        "def unzip_file(zip_filename, extract_dir):\n",
        "    with zipfile.ZipFile(zip_filename, 'r') as zip_ref:\n",
        "        zip_ref.extractall(extract_dir)\n",
        "    print('Extracted a zip file to',extract_dir)\n",
        "\n",
        "# Example usage:\n",
        "# directory_to_zip = 'path/to/your/directory'\n",
        "# zip_filename = 'output_zipfile.zip'\n",
        "\n",
        "# # Zip the directory\n",
        "# zip_directory(directory_to_zip, zip_filename)\n",
        "\n",
        "# # Unzip the zip file\n",
        "# extract_dir = 'path/to/extract'\n",
        "# unzip_file(zip_filename, extract_dir)\n"
      ],
      "metadata": {
        "id": "8LIOzFFbVVL6"
      },
      "execution_count": 38,
      "outputs": []
    },
    {
      "cell_type": "markdown",
      "source": [
        "# Get Sharable link of your Zip file in Gdrive"
      ],
      "metadata": {
        "id": "YrBaRZeDU9yE"
      }
    },
    {
      "cell_type": "code",
      "source": [
        "!pip install -U -q PyDrive"
      ],
      "metadata": {
        "id": "VDPTDAGQglw-"
      },
      "execution_count": 39,
      "outputs": []
    },
    {
      "cell_type": "code",
      "source": [
        "from pydrive.auth import GoogleAuth\n",
        "from pydrive.drive import GoogleDrive\n",
        "from google.colab import auth\n",
        "from oauth2client.client import GoogleCredentials\n",
        "\n",
        "\n",
        "def get_gdrive_link(file_path):\n",
        "    # Authenticating and creating PyDrive client\n",
        "    auth.authenticate_user()\n",
        "    gauth = GoogleAuth()\n",
        "    gauth.credentials = GoogleCredentials.get_application_default()\n",
        "    drive = GoogleDrive(gauth)\n",
        "\n",
        "    # Find the file in Google Drive\n",
        "    file_name = file_path.split('/')[-1]\n",
        "    file_list = drive.ListFile({'q': f\"title='{file_name}'\"}).GetList()\n",
        "\n",
        "    # Get the file ID and generate the shareable link\n",
        "    if file_list:\n",
        "        file_id = file_list[0]['id']\n",
        "        gdrive_link = f\"https://drive.google.com/file/d/{file_id}/view?usp=sharing\"\n",
        "        return gdrive_link\n",
        "    else:\n",
        "        return \"File not found in Google Drive\"\n",
        "\n",
        "def get_shareable_link(url):\n",
        "\n",
        "    file_id = extract_file_id_from_url(url)\n",
        "\n",
        "    auth.authenticate_user()\n",
        "    gauth = GoogleAuth()\n",
        "    gauth.credentials = GoogleCredentials.get_application_default()\n",
        "    drive = GoogleDrive(gauth)\n",
        "\n",
        "    try:\n",
        "        file_obj = drive.CreateFile({'id': file_id})\n",
        "        file_obj.FetchMetadata()\n",
        "        file_obj.InsertPermission({\n",
        "            'type': 'anyone',\n",
        "            'value': 'anyone',\n",
        "            'role': 'reader'\n",
        "        })\n",
        "\n",
        "        # Getting the shareable link\n",
        "        return file_obj['alternateLink']\n",
        "    except Exception as e:\n",
        "        print(\"Error:\", e)\n",
        "        return None\n"
      ],
      "metadata": {
        "id": "6Szf4lrfUwS3"
      },
      "execution_count": 41,
      "outputs": []
    },
    {
      "cell_type": "markdown",
      "source": [
        "# ***Loading all Libraries***"
      ],
      "metadata": {
        "id": "ZFcRsilfT191"
      }
    },
    {
      "cell_type": "code",
      "source": [
        "\n",
        "import pandas as pd\n",
        "from sklearn.feature_extraction.text import TfidfVectorizer\n",
        "from sklearn.naive_bayes import MultinomialNB\n",
        "from sklearn.pipeline import Pipeline\n",
        "from nltk.corpus import stopwords\n",
        "from nltk.stem import WordNetLemmatizer\n",
        "import nltk\n",
        "import re\n",
        "from tqdm import tqdm\n",
        "\n",
        "nltk.download('punkt')\n",
        "nltk.download('stopwords')\n",
        "nltk.download('wordnet')"
      ],
      "metadata": {
        "id": "hIQ3uVcHT69b",
        "colab": {
          "base_uri": "https://localhost:8080/"
        },
        "outputId": "8f4b0ba4-aec4-4e65-d921-0a82c6a588c0"
      },
      "execution_count": 42,
      "outputs": [
        {
          "output_type": "stream",
          "name": "stderr",
          "text": [
            "[nltk_data] Downloading package punkt to /root/nltk_data...\n",
            "[nltk_data]   Package punkt is already up-to-date!\n",
            "[nltk_data] Downloading package stopwords to /root/nltk_data...\n",
            "[nltk_data]   Package stopwords is already up-to-date!\n",
            "[nltk_data] Downloading package wordnet to /root/nltk_data...\n",
            "[nltk_data]   Package wordnet is already up-to-date!\n"
          ]
        },
        {
          "output_type": "execute_result",
          "data": {
            "text/plain": [
              "True"
            ]
          },
          "metadata": {},
          "execution_count": 42
        }
      ]
    },
    {
      "cell_type": "markdown",
      "source": [
        "# Method Generative Start\n",
        "\n",
        "This section includes all the details for the Generative Model (Naive Bayes).\n",
        "It includes the following:\n",
        "\n",
        "*   Data reading\n",
        "*   Data clearning, if any\n",
        "*   Convert data to vector/tokenization/vectorization\n",
        "*   Model Declaration/Initialization/building\n",
        "*   Training and validation of the model using training and validation dataset\n",
        "*   Save the trained model\n",
        "*   Load and Test the model on testing set\n",
        "*   Save the output of the model\n",
        "\n",
        "\n"
      ],
      "metadata": {
        "id": "47ywe8jGSKhL"
      }
    },
    {
      "cell_type": "markdown",
      "source": [
        "## Training Generative Method Code\n"
      ],
      "metadata": {
        "id": "1sA3OWlVbnoY"
      }
    },
    {
      "cell_type": "markdown",
      "source": [
        "# ***Step 1: Data Cleaning and Preprocessing***"
      ],
      "metadata": {
        "id": "DhJ053ToSPY-"
      }
    },
    {
      "cell_type": "code",
      "source": [
        "    # Define preprocessing function\n",
        "    def preprocess_text(text):\n",
        "        # Remove specific tokens\n",
        "        text = text.replace(\"SDATA_5 :\", \"\").replace(\"EDATA_5\", \"\").replace(\"NEWLINE_TOKEN\", \"\")\n",
        "        # Remove special characters and punctuation marks using regular expressions\n",
        "        text = re.sub(r'[^\\w\\s]', '', text)\n",
        "        # Remove URLs, email addresses, and phone numbers\n",
        "        text = re.sub(r\"http\\S+|www\\S+|\\S+@\\S+|\\d{10}\", \"\", text)\n",
        "        # Remove numbers\n",
        "        text = re.sub(r\"\\d+\", \"\", text)\n",
        "        # Remove non-ASCII characters\n",
        "        text = text.encode(\"ascii\", \"ignore\").decode()\n",
        "        # Convert the text to lowercase\n",
        "        text = text.lower()\n",
        "        # Remove extra white spaces\n",
        "        text = re.sub(r\"\\s+\", \" \", text)\n",
        "        # Tokenize the text\n",
        "        tokens = nltk.word_tokenize(text)\n",
        "        # Remove stop words\n",
        "        stop_words = set(stopwords.words(\"english\"))\n",
        "        tokens = [word for word in tokens if word not in stop_words]\n",
        "        # Apply lemmatization\n",
        "        lemmatizer = WordNetLemmatizer()\n",
        "        tokens = [lemmatizer.lemmatize(word) for word in tokens]\n",
        "        # Join the tokens back into a single string\n",
        "        preprocessed_text = \" \".join(tokens)\n",
        "        return preprocessed_text\n"
      ],
      "metadata": {
        "id": "jDe2UrPkSGdp"
      },
      "execution_count": 43,
      "outputs": []
    },
    {
      "cell_type": "markdown",
      "source": [
        "**Model training, saving and generating link**"
      ],
      "metadata": {
        "id": "n8f8nk1-W32o"
      }
    },
    {
      "cell_type": "code",
      "source": [
        "def train_Gen(train_file, val_file, model_dir):\n",
        "\n",
        "    # reading the train and validation file\n",
        "    train_df = pd.read_csv(train_file)\n",
        "    val_df = pd.read_csv(val_file)\n",
        "\n",
        "    tqdm.pandas(desc=\"Preprocessing train data\")\n",
        "    train_df['preprocessed_comment'] = train_df['comment'].progress_apply(preprocess_text)\n",
        "    tqdm.pandas(desc=\"Preprocessing val data\")\n",
        "    val_df['preprocessed_comment'] = val_df['comment'].progress_apply(preprocess_text)\n",
        "\n",
        "    # Initialize the vectorizer\n",
        "    vectorizer = TfidfVectorizer()\n",
        "    # Fit the vectorizer on the training data and transform the training data\n",
        "    train_features = vectorizer.fit_transform(train_df['preprocessed_comment'])\n",
        "    # Transform the validation data using the fitted vectorizer\n",
        "    val_features = vectorizer.transform(val_df['preprocessed_comment'])\n",
        "\n",
        "    # Define the Naive Bayes model with TF-IDF vectorizer as a pipeline\n",
        "    pipeline = Pipeline([\n",
        "        ('tfidf', vectorizer),\n",
        "        ('naive_bayes', MultinomialNB())\n",
        "    ])\n",
        "\n",
        "    # Defining the hyperparamneters used\n",
        "    best_params = {\n",
        "        'naive_bayes__alpha': 0.0010454648682604534,\n",
        "        'naive_bayes__fit_prior': False,\n",
        "    }\n",
        "\n",
        "    #initializing the pipeline\n",
        "    pipeline.set_params(**best_params)\n",
        "    pipeline.fit(train_df['preprocessed_comment'], train_df['toxicity'])          #Training the Model\n",
        "\n",
        "    #Predicitng on the Validation set\n",
        "    y_pred = pipeline.predict(val_df['preprocessed_comment'])\n",
        "\n",
        "    #computing the performance useing the compute_performance function\n",
        "    score= compute_performance(val_df['toxicity'], y_pred)\n",
        "\n",
        "    # print('Accuracy:', accuracy)\n",
        "    # print('Recall (macro):', recall)\n",
        "    # print('Precision (macro):', precision)\n",
        "    # print('F1 Score (macro):', f1)\n",
        "    # print('Confusion Matrix:')\n",
        "    # print(cm)\n",
        "    print(score)\n",
        "\n",
        "    #saving the model and\n",
        "    model_gdrive_link = save_and_share_model(pipeline, model_dir)\n",
        "    return model_gdrive_link\n",
        "\n",
        "def save_and_share_model(model, model_dir):\n",
        "   # Model is working fine, so save model\n",
        "    save_model(model, model_dir)\n",
        "    # Now Zip Model to share it\n",
        "    zip_directory(model_dir, MODEL_Gen_File)\n",
        "    model_gdrive_link = get_gdrive_link(MODEL_Gen_File)\n",
        "    print(model_gdrive_link)\n",
        "    get_shareable_link(model_gdrive_link)\n",
        "    return model_gdrive_link"
      ],
      "metadata": {
        "id": "_Ux7GBKXbqq6"
      },
      "execution_count": 50,
      "outputs": []
    },
    {
      "cell_type": "code",
      "source": [
        "#  best_params = {\n",
        "#         'naive_bayes__alpha': 0.0010454648682604534,\n",
        "#         'naive_bayes__fit_prior': False,\n",
        "#     }\n",
        "#model_gdrive_link = train_Gen(train_file, val_file, MODEL_Gen_DIRECTORY)"
      ],
      "metadata": {
        "id": "UtVBnW3rvNHq"
      },
      "execution_count": null,
      "outputs": []
    },
    {
      "cell_type": "markdown",
      "source": [
        "## Testing Method generative (Naive Bayes) Code\n"
      ],
      "metadata": {
        "id": "qyJ_xv12Uy9c"
      }
    },
    {
      "cell_type": "code",
      "source": [
        "def test_Gen(test_file, MODEL_PATH,model_gdrive_link):\n",
        "    print('\\n Start by downloading model')\n",
        "    # Frist Get model from the link\n",
        "    # model_gdrive_link = get_gdrive_link(model_file)\n",
        "\n",
        "    # These two are temporary directory and file\n",
        "    test_model_file = MODEL_PATH+'/test.zip'\n",
        "    test_model_path = MODEL_PATH+'/test/'\n",
        "\n",
        "    # Now download and unzip the model file\n",
        "    download_zip_file_from_link(model_gdrive_link,test_model_file)\n",
        "    print('Model downloaded to', test_model_file)\n",
        "    unzip_file(test_model_file, test_model_path)\n",
        "    print('\\n Model is downloaded to ',test_model_path)\n",
        "\n",
        "\n",
        "\n",
        "    test_df=pd.read_csv(test_file)\n",
        "    print('\\n Data is loaded from', test_file)\n",
        "\n",
        "    #getting the model file name and loading it\n",
        "    test_model_file=os.path.join(test_model_path,'Model_Gen','model.sav')\n",
        "\n",
        "    model=load_model(test_model_file)\n",
        "\n",
        "    #Doing the prediction\n",
        "    y_pred=model.predict(test_df['comment'])\n",
        "\n",
        "    # Now save the model output in the same test file\n",
        "    # Note the name of output column, this is for the discriminative model\n",
        "    test_df['out_label_model_Gen'] = y_pred\n",
        "\n",
        "    # Now save the model output in the same output file\n",
        "    test_df.to_csv(test_file, index=False)\n",
        "    print('\\n Output is save in ', test_file)\n",
        "\n",
        "    return test_file"
      ],
      "metadata": {
        "id": "43T3JqK5a484"
      },
      "execution_count": 52,
      "outputs": []
    },
    {
      "cell_type": "markdown",
      "source": [
        "## Method Generative End\n"
      ],
      "metadata": {
        "id": "ue3xIDFGSXNH"
      }
    },
    {
      "cell_type": "markdown",
      "source": [
        "# Method Discriminative Start\n",
        "\n",
        "This section includes all details of your Method 2.\n",
        "\n",
        "*   Data reading\n",
        "*   Data clearning, if any\n",
        "*   Convert data to vector/tokenization/vectorization\n",
        "*   Model Declaration/Initialization/building\n",
        "*   Training and validation of the model using training and validation dataset\n",
        "*   Save the trained model\n",
        "*   Load and Test the model on testing set\n",
        "*   Save the output of the model\n",
        "\n",
        "\n"
      ],
      "metadata": {
        "id": "o5jNIHneSfzg"
      }
    },
    {
      "cell_type": "markdown",
      "source": [
        "## Training Method Discriminative Code\n"
      ],
      "metadata": {
        "id": "zAkC0CWAc1BY"
      }
    },
    {
      "cell_type": "markdown",
      "source": [
        "Importing all Libraries"
      ],
      "metadata": {
        "id": "zV7T0rJZXdlF"
      }
    },
    {
      "cell_type": "code",
      "source": [
        "from sklearn.feature_extraction.text import CountVectorizer, TfidfVectorizer\n",
        "from sklearn.pipeline import Pipeline\n",
        "from xgboost import XGBClassifier\n",
        "from sklearn.metrics import accuracy_score, recall_score, precision_score, f1_score, confusion_matrix\n",
        "import pandas as pd\n",
        "import numpy as np\n",
        "import nltk\n",
        "from nltk.corpus import stopwords\n",
        "from nltk.stem import PorterStemmer, WordNetLemmatizer\n",
        "from sklearn.naive_bayes import MultinomialNB\n",
        "from tqdm.auto import tqdm\n",
        "\n",
        "\n",
        "import nltk\n",
        "nltk.download('punkt')\n",
        "nltk.download('stopwords')\n",
        "nltk.download('wordnet')\n"
      ],
      "metadata": {
        "id": "J892iPM8hFvJ",
        "colab": {
          "base_uri": "https://localhost:8080/"
        },
        "outputId": "a1b20331-6c04-4db1-cd48-aaf2fc964de3"
      },
      "execution_count": 53,
      "outputs": [
        {
          "output_type": "stream",
          "name": "stderr",
          "text": [
            "[nltk_data] Downloading package punkt to /root/nltk_data...\n",
            "[nltk_data]   Package punkt is already up-to-date!\n",
            "[nltk_data] Downloading package stopwords to /root/nltk_data...\n",
            "[nltk_data]   Package stopwords is already up-to-date!\n",
            "[nltk_data] Downloading package wordnet to /root/nltk_data...\n",
            "[nltk_data]   Package wordnet is already up-to-date!\n"
          ]
        },
        {
          "output_type": "execute_result",
          "data": {
            "text/plain": [
              "True"
            ]
          },
          "metadata": {},
          "execution_count": 53
        }
      ]
    },
    {
      "cell_type": "markdown",
      "source": [
        "Data Preprocessing and Cleaning"
      ],
      "metadata": {
        "id": "q_GNeyh_XivL"
      }
    },
    {
      "cell_type": "code",
      "source": [
        "def preprocess_text(text):\n",
        "        # Remove specific tokens\n",
        "        text = text.replace(\"SDATA_5 :\", \"\").replace(\"EDATA_5\", \"\").replace(\"NEWLINE_TOKEN\", \"\")\n",
        "        # Remove special characters and punctuation marks using regular expressions\n",
        "        text = re.sub(r'[^\\w\\s]', '', text)\n",
        "        # Remove URLs, email addresses, and phone numbers\n",
        "        text = re.sub(r\"http\\S+|www\\S+|\\S+@\\S+|\\d{10}\", \"\", text)\n",
        "        # Remove numbers\n",
        "        text = re.sub(r\"\\d+\", \"\", text)\n",
        "        # Remove non-ASCII characters\n",
        "        text = text.encode(\"ascii\", \"ignore\").decode()\n",
        "        # Convert the text to lowercase\n",
        "        text = text.lower()\n",
        "        # Remove extra white spaces\n",
        "        text = re.sub(r\"\\s+\", \" \", text)\n",
        "        # Tokenize the text\n",
        "        tokens = nltk.word_tokenize(text)\n",
        "        # Remove stop words\n",
        "        stop_words = set(stopwords.words(\"english\"))\n",
        "        tokens = [word for word in tokens if word not in stop_words]\n",
        "        # Apply lemmatization\n",
        "        lemmatizer = WordNetLemmatizer()\n",
        "        tokens = [lemmatizer.lemmatize(word) for word in tokens]\n",
        "        # Join the tokens back into a single string\n",
        "        preprocessed_text = \" \".join(tokens)\n",
        "        return preprocessed_text"
      ],
      "metadata": {
        "id": "3bRaERD-Xo0d"
      },
      "execution_count": 54,
      "outputs": []
    },
    {
      "cell_type": "markdown",
      "source": [
        "# ***Training the Descriminative Model***"
      ],
      "metadata": {
        "id": "byqwxLB4XwqR"
      }
    },
    {
      "cell_type": "code",
      "source": [
        "def train_dis(train_file, val_file, model_dir):\n",
        "    # Getting the train and validation datasets\n",
        "    train_df = pd.read_csv(train_file)\n",
        "    val_df = pd.read_csv(val_file)\n",
        "\n",
        "    # Preprocess the text\n",
        "    tqdm.pandas(desc=\"Preprocessing train data\")\n",
        "    train_df['preprocessed_comment'] = train_df['comment'].progress_apply(preprocess_text)\n",
        "    tqdm.pandas(desc=\"Preprocessing val data\")\n",
        "    val_df['preprocessed_comment'] = val_df['comment'].progress_apply(preprocess_text)\n",
        "\n",
        "    best_params = {\n",
        "    \"objective\": \"reg:squarederror\",\n",
        "    'n_estimators': 859,\n",
        "    'learning_rate': 0.09069799936088908,\n",
        "    'max_depth': 10,\n",
        "    'subsample': 0.7415235437197126,\n",
        "    'colsample_bytree': 0.5241592558794433,\n",
        "    'min_child_weight': 2\n",
        "                          }\n",
        "\n",
        "\n",
        "    # Create an instance of TfidfVectorizer\n",
        "    vectorizer = TfidfVectorizer()\n",
        "\n",
        "    # Fit the vectorizer on the training data and transform the training data\n",
        "    train_features = vectorizer.fit_transform(train_df['preprocessed_comment'])\n",
        "\n",
        "    # Transform the validation data using the fitted vectorizer\n",
        "    val_features = vectorizer.transform(val_df['preprocessed_comment'])\n",
        "\n",
        "    # Create an instance of XGBClassifier with the best parameters\n",
        "    model = XGBClassifier(**best_params, tree_method='auto')\n",
        "\n",
        "    # Fit the model on the training features and labels\n",
        "    model.fit(train_features, train_df['toxicity'])\n",
        "\n",
        "    # Predict on the validation features\n",
        "    val_pred = model.predict(val_features)\n",
        "\n",
        "    # Compute performance metrics\n",
        "    score = compute_performance(val_df['toxicity'], val_pred)\n",
        "\n",
        "    # Print performance metrics\n",
        "    # print('Accuracy:', accuracy)\n",
        "    # print('Recall (macro):', recall)\n",
        "    # print('Precision (macro):', precision)\n",
        "    # print('F1 Score (macro):', f1)\n",
        "    # print('Confusion Matrix:')\n",
        "    # print(cm)\n",
        "    print(score)\n",
        "\n",
        "    # Model is working fine, so save model\n",
        "    save_model(model, model_dir)\n",
        "\n",
        "    # Now Zip Model to share it\n",
        "    zip_directory(model_dir, MODEL_Dis_File)\n",
        "\n",
        "    model_gdrive_link = get_gdrive_link(MODEL_Dis_File)\n",
        "\n",
        "    print(model_gdrive_link)\n",
        "    get_shareable_link(model_gdrive_link)\n",
        "\n",
        "    return model_gdrive_link\n"
      ],
      "metadata": {
        "id": "JA7vbLnoc0b5"
      },
      "execution_count": 59,
      "outputs": []
    },
    {
      "cell_type": "code",
      "source": [
        "# model_gdrive_link = train_dis(train_file, val_file, MODEL_Dis_DIRECTORY)\n",
        "# best_params = {\n",
        "#     \"objective\": \"reg:squarederror\",\n",
        "#     'n_estimators': 859,\n",
        "#     'learning_rate': 0.09069799936088908,\n",
        "#     'max_depth': 10,\n",
        "#     'subsample': 0.7415235437197126,\n",
        "#     'colsample_bytree': 0.5241592558794433,\n",
        "#     'min_child_weight': 2\n",
        "# }\n",
        "\n",
        "# Call the train_dis function and pass the best_params dictionary\n",
        "#model_gdrive_link = train_dis(train_file, val_file, MODEL_Dis_DIRECTORY)"
      ],
      "metadata": {
        "id": "5hGvMSNV3mMa"
      },
      "execution_count": null,
      "outputs": []
    },
    {
      "cell_type": "markdown",
      "source": [
        "## Testing Method Discriminative Code\n",
        "  "
      ],
      "metadata": {
        "id": "LVi2vGeZc5Fp"
      }
    },
    {
      "cell_type": "code",
      "source": [
        "def test_dis(test_file, MODEL_PATH,model_gdrive_link):\n",
        "\n",
        "    print('\\n Start by downloading model')\n",
        "    # Frist Get model from the link\n",
        "    # model_gdrive_link = get_gdrive_link(model_file)\n",
        "\n",
        "    # These two are temporary directory and file\n",
        "    test_model_file = MODEL_PATH+'/test.zip'\n",
        "    test_model_path = MODEL_PATH+'/test/'\n",
        "\n",
        "    # Now download and unzip the model file\n",
        "    download_zip_file_from_link(model_gdrive_link,test_model_file)\n",
        "    print('Model downloaded to', test_model_file)\n",
        "    unzip_file(test_model_file, test_model_path)\n",
        "    print('\\n Model is downloaded to ',test_model_path)\n",
        "\n",
        "\n",
        "\n",
        "    test_df=pd.read_csv(test_file)\n",
        "    print('\\n Data is loaded from', test_file)\n",
        "\n",
        "    #getting the model file name and loading it\n",
        "    test_model_file=os.path.join(test_model_path,'Model_Dis','model.sav')\n",
        "\n",
        "    model=load_model(test_model_file)\n",
        "\n",
        "    #Doing the prediction\n",
        "    y_pred=model.predict(test_df['comment'])\n",
        "\n",
        "    # Now save the model output in the same test file\n",
        "    # Note the name of output column, this is for the discriminative model\n",
        "    test_df['out_label_model_Dis'] = y_pred\n",
        "\n",
        "    # Now save the model output in the same output file\n",
        "    test_df.to_csv(test_file, index=False)\n",
        "    print('\\n Output is save in ', test_file)\n",
        "\n",
        "    return test_file"
      ],
      "metadata": {
        "id": "v477tmxOSlVj"
      },
      "execution_count": 65,
      "outputs": []
    },
    {
      "cell_type": "markdown",
      "source": [
        "## Discriminative Method  End\n"
      ],
      "metadata": {
        "id": "4gNwyxXNSmVb"
      }
    },
    {
      "cell_type": "markdown",
      "source": [],
      "metadata": {
        "id": "bDYDtWqMltOq"
      }
    },
    {
      "cell_type": "markdown",
      "source": [
        "# Other Method/model Start"
      ],
      "metadata": {
        "id": "rmaJfJkVwSDW"
      }
    },
    {
      "cell_type": "code",
      "source": [
        "import argparse"
      ],
      "metadata": {
        "id": "YsIl8SPc6uen"
      },
      "execution_count": 61,
      "outputs": []
    },
    {
      "cell_type": "code",
      "source": [
        "# Define argparse-like function\n",
        "def parse_arguments(option):\n",
        "    parser = argparse.ArgumentParser(description='Process some integers.')\n",
        "    parser.add_argument('--option', '-o',  type=str, default=option, help='Description of your option.')\n",
        "    args = parser.parse_args(args=[])\n",
        "    return args\n",
        "\n",
        "# Function to perform some action based on selected option\n",
        "def perform_action(option):\n",
        "    print(\"Performing action with option:\", option)\n",
        "\n",
        "    if option == '0':\n",
        "      print('\\n Okay Exiting!!! ')\n",
        "\n",
        "    elif option == '1':\n",
        "      print('\\n Training Generative Model')\n",
        "      model_gdrive_link = train_Gen(train_file,val_file,MODEL_Gen_DIRECTORY)\n",
        "      print('Make sure to pass model URL in Testing',model_gdrive_link)\n",
        "\n",
        "    elif option == '2':\n",
        "      print('\\n\\n Pass the URL Not Variable !!!')\n",
        "      print('\\n Testing Generative Model')\n",
        "      model_gen_url = ''\n",
        "      test_Gen(test_file, model_gen_url)\n",
        "\n",
        "    elif option == '3':\n",
        "      print('\\n Training Disciminative Model')\n",
        "      model_gdrive_link = train_dis(train_file,val_file,MODEL_Dis_DIRECTORY)\n",
        "      print('Make sure to pass model URL in Testing',model_gdrive_link)\n",
        "      print('\\n\\n Pass the URL Not Variable !!!')\n",
        "\n",
        "    elif option == '4':\n",
        "      print('\\n\\n Pass the URL Not Variable !!!')\n",
        "      print('\\n Testing Disciminative Model')\n",
        "      model_dis_url = 'https://drive.google.com/file/d/1--sJNJMLFvAz77HjiB8is8DDHOfY0FBG/view?usp=sharing'\n",
        "      test_dis(test_file, MODEL_PATH, model_dis_url)\n",
        "\n",
        "    else:\n",
        "      print('Wrong Option Selected. \\n\\nPlease select Correct option')\n",
        "      main()\n",
        "\n",
        "\n",
        "def main():\n",
        "\n",
        "    # Get option from user input\n",
        "    user_option = input(\"0. To Exit Code\\n\"\n",
        "                     \"1. Train Model Generative\\n\"\n",
        "                    \"2. Test Model Generative\\n\"\n",
        "                    \"3. Train Model Discriminative\\n\"\n",
        "                    \"4. Test Model Discriminative\\n\"\n",
        "                    \"Enter your option: \")\n",
        "\n",
        "    args = parse_arguments(user_option)\n",
        "    option = args.option\n",
        "    perform_action(option)\n"
      ],
      "metadata": {
        "id": "vWBxKhLI6vfY"
      },
      "execution_count": 62,
      "outputs": []
    },
    {
      "cell_type": "code",
      "source": [
        "main()"
      ],
      "metadata": {
        "id": "LQTmVWa5wdD3",
        "colab": {
          "base_uri": "https://localhost:8080/",
          "height": 698,
          "referenced_widgets": [
            "5fa0a22cfeeb420fb3fe98db87cb329e",
            "d00a8858ed5245469d3c218367238b9b",
            "faa0861858ea418ca612a485db03eac7",
            "c2f6158fefa94596ba98b55f8f7d2e01",
            "46701de4597b4fb895c5032e7377c186",
            "6f17437407d7453ba34fb5d042940e0e",
            "3d3758edd1754e6a8229497012cea3cb",
            "8b415c8860194f7eacf006a66e55a14e",
            "b924be1a8e0e441c93552b1ee8dd75b3",
            "8b733c3309a44cbab7eecaa9c25c45e8",
            "fbce9f74682243c7b065a8343a146453",
            "e076b9346003455ba73539b98736b90d",
            "900ef2b8f7c542cabc7c083c32dbdbf4",
            "eea0a52af9394aba980b0770541809db",
            "a1d6b56ca21e40a2bec827e3c14ca087",
            "5447ef3380cb4573890a727d55fadf21",
            "1057fb6155794ac8b7b041f5fca0cce3",
            "af51825bbdd74feb88589efe4799aaa8",
            "f0bdc9f852a642068f3bea5450d11310",
            "111452c9398d4005b0fd16ecf62ff90c",
            "3c19b8a7a8ae43c0859055fd8913f9ce",
            "87ede2552acb475c8c9e862a25293466"
          ]
        },
        "outputId": "65b55889-4988-4511-aed2-6a70a52b3ccb"
      },
      "execution_count": 63,
      "outputs": [
        {
          "output_type": "stream",
          "name": "stdout",
          "text": [
            "0. To Exit Code\n",
            "1. Train Model Generative\n",
            "2. Test Model Generative\n",
            "3. Train Model Discriminative\n",
            "4. Test Model Discriminative\n",
            "Enter your option: 1\n",
            "Performing action with option: 1\n",
            "\n",
            " Training Generative Model\n"
          ]
        },
        {
          "output_type": "display_data",
          "data": {
            "text/plain": [
              "Preprocessing train data:   0%|          | 0/8699 [00:00<?, ?it/s]"
            ],
            "application/vnd.jupyter.widget-view+json": {
              "version_major": 2,
              "version_minor": 0,
              "model_id": "5fa0a22cfeeb420fb3fe98db87cb329e"
            }
          },
          "metadata": {}
        },
        {
          "output_type": "display_data",
          "data": {
            "text/plain": [
              "Preprocessing val data:   0%|          | 0/2920 [00:00<?, ?it/s]"
            ],
            "application/vnd.jupyter.widget-view+json": {
              "version_major": 2,
              "version_minor": 0,
              "model_id": "e076b9346003455ba73539b98736b90d"
            }
          },
          "metadata": {}
        },
        {
          "output_type": "stream",
          "name": "stdout",
          "text": [
            "Accuracy: 0.7407534246575342\n",
            "Recall (macro): 0.5083124843697095\n",
            "Precision (macro): 0.5064525354781603\n",
            "F1 Score (macro): 0.5050708939976601\n",
            "Confusion Matrix:\n",
            "[[2089  448]\n",
            " [ 309   74]]\n",
            "0.5050708939976601\n",
            "Directory 'gdrive/MyDrive/./CE807-24-SP/Assignment/model/2314555/Model_Gen' already exists.\n",
            "Saved model to  gdrive/MyDrive/./CE807-24-SP/Assignment/model/2314555/Model_Gen/model.sav\n",
            "Created a zip file gdrive/MyDrive/./CE807-24-SP/Assignment/model/2314555/Model_Gen.zip\n"
          ]
        },
        {
          "output_type": "error",
          "ename": "KeyboardInterrupt",
          "evalue": "",
          "traceback": [
            "\u001b[0;31m---------------------------------------------------------------------------\u001b[0m",
            "\u001b[0;31mKeyboardInterrupt\u001b[0m                         Traceback (most recent call last)",
            "\u001b[0;32m<ipython-input-63-263240bbee7e>\u001b[0m in \u001b[0;36m<cell line: 1>\u001b[0;34m()\u001b[0m\n\u001b[0;32m----> 1\u001b[0;31m \u001b[0mmain\u001b[0m\u001b[0;34m(\u001b[0m\u001b[0;34m)\u001b[0m\u001b[0;34m\u001b[0m\u001b[0;34m\u001b[0m\u001b[0m\n\u001b[0m",
            "\u001b[0;32m<ipython-input-62-c4dde963fc48>\u001b[0m in \u001b[0;36mmain\u001b[0;34m()\u001b[0m\n\u001b[1;32m     53\u001b[0m     \u001b[0margs\u001b[0m \u001b[0;34m=\u001b[0m \u001b[0mparse_arguments\u001b[0m\u001b[0;34m(\u001b[0m\u001b[0muser_option\u001b[0m\u001b[0;34m)\u001b[0m\u001b[0;34m\u001b[0m\u001b[0;34m\u001b[0m\u001b[0m\n\u001b[1;32m     54\u001b[0m     \u001b[0moption\u001b[0m \u001b[0;34m=\u001b[0m \u001b[0margs\u001b[0m\u001b[0;34m.\u001b[0m\u001b[0moption\u001b[0m\u001b[0;34m\u001b[0m\u001b[0;34m\u001b[0m\u001b[0m\n\u001b[0;32m---> 55\u001b[0;31m     \u001b[0mperform_action\u001b[0m\u001b[0;34m(\u001b[0m\u001b[0moption\u001b[0m\u001b[0;34m)\u001b[0m\u001b[0;34m\u001b[0m\u001b[0;34m\u001b[0m\u001b[0m\n\u001b[0m",
            "\u001b[0;32m<ipython-input-62-c4dde963fc48>\u001b[0m in \u001b[0;36mperform_action\u001b[0;34m(option)\u001b[0m\n\u001b[1;32m     15\u001b[0m     \u001b[0;32melif\u001b[0m \u001b[0moption\u001b[0m \u001b[0;34m==\u001b[0m \u001b[0;34m'1'\u001b[0m\u001b[0;34m:\u001b[0m\u001b[0;34m\u001b[0m\u001b[0;34m\u001b[0m\u001b[0m\n\u001b[1;32m     16\u001b[0m       \u001b[0mprint\u001b[0m\u001b[0;34m(\u001b[0m\u001b[0;34m'\\n Training Generative Model'\u001b[0m\u001b[0;34m)\u001b[0m\u001b[0;34m\u001b[0m\u001b[0;34m\u001b[0m\u001b[0m\n\u001b[0;32m---> 17\u001b[0;31m       \u001b[0mmodel_gdrive_link\u001b[0m \u001b[0;34m=\u001b[0m \u001b[0mtrain_Gen\u001b[0m\u001b[0;34m(\u001b[0m\u001b[0mtrain_file\u001b[0m\u001b[0;34m,\u001b[0m\u001b[0mval_file\u001b[0m\u001b[0;34m,\u001b[0m\u001b[0mMODEL_Gen_DIRECTORY\u001b[0m\u001b[0;34m)\u001b[0m\u001b[0;34m\u001b[0m\u001b[0;34m\u001b[0m\u001b[0m\n\u001b[0m\u001b[1;32m     18\u001b[0m       \u001b[0mprint\u001b[0m\u001b[0;34m(\u001b[0m\u001b[0;34m'Make sure to pass model URL in Testing'\u001b[0m\u001b[0;34m,\u001b[0m\u001b[0mmodel_gdrive_link\u001b[0m\u001b[0;34m)\u001b[0m\u001b[0;34m\u001b[0m\u001b[0;34m\u001b[0m\u001b[0m\n\u001b[1;32m     19\u001b[0m \u001b[0;34m\u001b[0m\u001b[0m\n",
            "\u001b[0;32m<ipython-input-50-13b81de7aaca>\u001b[0m in \u001b[0;36mtrain_Gen\u001b[0;34m(train_file, val_file, model_dir)\u001b[0m\n\u001b[1;32m     48\u001b[0m \u001b[0;34m\u001b[0m\u001b[0m\n\u001b[1;32m     49\u001b[0m     \u001b[0;31m#saving the model and\u001b[0m\u001b[0;34m\u001b[0m\u001b[0;34m\u001b[0m\u001b[0m\n\u001b[0;32m---> 50\u001b[0;31m     \u001b[0mmodel_gdrive_link\u001b[0m \u001b[0;34m=\u001b[0m \u001b[0msave_and_share_model\u001b[0m\u001b[0;34m(\u001b[0m\u001b[0mpipeline\u001b[0m\u001b[0;34m,\u001b[0m \u001b[0mmodel_dir\u001b[0m\u001b[0;34m)\u001b[0m\u001b[0;34m\u001b[0m\u001b[0;34m\u001b[0m\u001b[0m\n\u001b[0m\u001b[1;32m     51\u001b[0m     \u001b[0;32mreturn\u001b[0m \u001b[0mmodel_gdrive_link\u001b[0m\u001b[0;34m\u001b[0m\u001b[0;34m\u001b[0m\u001b[0m\n\u001b[1;32m     52\u001b[0m \u001b[0;34m\u001b[0m\u001b[0m\n",
            "\u001b[0;32m<ipython-input-50-13b81de7aaca>\u001b[0m in \u001b[0;36msave_and_share_model\u001b[0;34m(model, model_dir)\u001b[0m\n\u001b[1;32m     56\u001b[0m     \u001b[0;31m# Now Zip Model to share it\u001b[0m\u001b[0;34m\u001b[0m\u001b[0;34m\u001b[0m\u001b[0m\n\u001b[1;32m     57\u001b[0m     \u001b[0mzip_directory\u001b[0m\u001b[0;34m(\u001b[0m\u001b[0mmodel_dir\u001b[0m\u001b[0;34m,\u001b[0m \u001b[0mMODEL_Gen_File\u001b[0m\u001b[0;34m)\u001b[0m\u001b[0;34m\u001b[0m\u001b[0;34m\u001b[0m\u001b[0m\n\u001b[0;32m---> 58\u001b[0;31m     \u001b[0mmodel_gdrive_link\u001b[0m \u001b[0;34m=\u001b[0m \u001b[0mget_gdrive_link\u001b[0m\u001b[0;34m(\u001b[0m\u001b[0mMODEL_Gen_File\u001b[0m\u001b[0;34m)\u001b[0m\u001b[0;34m\u001b[0m\u001b[0;34m\u001b[0m\u001b[0m\n\u001b[0m\u001b[1;32m     59\u001b[0m     \u001b[0mprint\u001b[0m\u001b[0;34m(\u001b[0m\u001b[0mmodel_gdrive_link\u001b[0m\u001b[0;34m)\u001b[0m\u001b[0;34m\u001b[0m\u001b[0;34m\u001b[0m\u001b[0m\n\u001b[1;32m     60\u001b[0m     \u001b[0mget_shareable_link\u001b[0m\u001b[0;34m(\u001b[0m\u001b[0mmodel_gdrive_link\u001b[0m\u001b[0;34m)\u001b[0m\u001b[0;34m\u001b[0m\u001b[0;34m\u001b[0m\u001b[0m\n",
            "\u001b[0;32m<ipython-input-41-13ab3c14dc30>\u001b[0m in \u001b[0;36mget_gdrive_link\u001b[0;34m(file_path)\u001b[0m\n\u001b[1;32m      7\u001b[0m \u001b[0;32mdef\u001b[0m \u001b[0mget_gdrive_link\u001b[0m\u001b[0;34m(\u001b[0m\u001b[0mfile_path\u001b[0m\u001b[0;34m)\u001b[0m\u001b[0;34m:\u001b[0m\u001b[0;34m\u001b[0m\u001b[0;34m\u001b[0m\u001b[0m\n\u001b[1;32m      8\u001b[0m     \u001b[0;31m# Authenticating and creating PyDrive client\u001b[0m\u001b[0;34m\u001b[0m\u001b[0;34m\u001b[0m\u001b[0m\n\u001b[0;32m----> 9\u001b[0;31m     \u001b[0mauth\u001b[0m\u001b[0;34m.\u001b[0m\u001b[0mauthenticate_user\u001b[0m\u001b[0;34m(\u001b[0m\u001b[0;34m)\u001b[0m\u001b[0;34m\u001b[0m\u001b[0;34m\u001b[0m\u001b[0m\n\u001b[0m\u001b[1;32m     10\u001b[0m     \u001b[0mgauth\u001b[0m \u001b[0;34m=\u001b[0m \u001b[0mGoogleAuth\u001b[0m\u001b[0;34m(\u001b[0m\u001b[0;34m)\u001b[0m\u001b[0;34m\u001b[0m\u001b[0;34m\u001b[0m\u001b[0m\n\u001b[1;32m     11\u001b[0m     \u001b[0mgauth\u001b[0m\u001b[0;34m.\u001b[0m\u001b[0mcredentials\u001b[0m \u001b[0;34m=\u001b[0m \u001b[0mGoogleCredentials\u001b[0m\u001b[0;34m.\u001b[0m\u001b[0mget_application_default\u001b[0m\u001b[0;34m(\u001b[0m\u001b[0;34m)\u001b[0m\u001b[0;34m\u001b[0m\u001b[0;34m\u001b[0m\u001b[0m\n",
            "\u001b[0;32m/usr/local/lib/python3.10/dist-packages/google/colab/auth.py\u001b[0m in \u001b[0;36mauthenticate_user\u001b[0;34m(clear_output, project_id)\u001b[0m\n\u001b[1;32m    279\u001b[0m   \u001b[0;32mif\u001b[0m \u001b[0;32mnot\u001b[0m \u001b[0m_check_adc\u001b[0m\u001b[0;34m(\u001b[0m\u001b[0m_CredentialType\u001b[0m\u001b[0;34m.\u001b[0m\u001b[0mUSER\u001b[0m\u001b[0;34m)\u001b[0m\u001b[0;34m:\u001b[0m\u001b[0;34m\u001b[0m\u001b[0;34m\u001b[0m\u001b[0m\n\u001b[1;32m    280\u001b[0m     \u001b[0;32mif\u001b[0m \u001b[0muse_auth_ephem\u001b[0m\u001b[0;34m:\u001b[0m\u001b[0;34m\u001b[0m\u001b[0;34m\u001b[0m\u001b[0m\n\u001b[0;32m--> 281\u001b[0;31m       _message.blocking_request(\n\u001b[0m\u001b[1;32m    282\u001b[0m           \u001b[0;34m'request_auth'\u001b[0m\u001b[0;34m,\u001b[0m\u001b[0;34m\u001b[0m\u001b[0;34m\u001b[0m\u001b[0m\n\u001b[1;32m    283\u001b[0m           \u001b[0mrequest\u001b[0m\u001b[0;34m=\u001b[0m\u001b[0;34m{\u001b[0m\u001b[0;34m'authType'\u001b[0m\u001b[0;34m:\u001b[0m \u001b[0;34m'auth_user_ephemeral'\u001b[0m\u001b[0;34m}\u001b[0m\u001b[0;34m,\u001b[0m\u001b[0;34m\u001b[0m\u001b[0;34m\u001b[0m\u001b[0m\n",
            "\u001b[0;32m/usr/local/lib/python3.10/dist-packages/google/colab/_message.py\u001b[0m in \u001b[0;36mblocking_request\u001b[0;34m(request_type, request, timeout_sec, parent)\u001b[0m\n\u001b[1;32m    174\u001b[0m       \u001b[0mrequest_type\u001b[0m\u001b[0;34m,\u001b[0m \u001b[0mrequest\u001b[0m\u001b[0;34m,\u001b[0m \u001b[0mparent\u001b[0m\u001b[0;34m=\u001b[0m\u001b[0mparent\u001b[0m\u001b[0;34m,\u001b[0m \u001b[0mexpect_reply\u001b[0m\u001b[0;34m=\u001b[0m\u001b[0;32mTrue\u001b[0m\u001b[0;34m\u001b[0m\u001b[0;34m\u001b[0m\u001b[0m\n\u001b[1;32m    175\u001b[0m   )\n\u001b[0;32m--> 176\u001b[0;31m   \u001b[0;32mreturn\u001b[0m \u001b[0mread_reply_from_input\u001b[0m\u001b[0;34m(\u001b[0m\u001b[0mrequest_id\u001b[0m\u001b[0;34m,\u001b[0m \u001b[0mtimeout_sec\u001b[0m\u001b[0;34m)\u001b[0m\u001b[0;34m\u001b[0m\u001b[0;34m\u001b[0m\u001b[0m\n\u001b[0m",
            "\u001b[0;32m/usr/local/lib/python3.10/dist-packages/google/colab/_message.py\u001b[0m in \u001b[0;36mread_reply_from_input\u001b[0;34m(message_id, timeout_sec)\u001b[0m\n\u001b[1;32m     94\u001b[0m     \u001b[0mreply\u001b[0m \u001b[0;34m=\u001b[0m \u001b[0m_read_next_input_message\u001b[0m\u001b[0;34m(\u001b[0m\u001b[0;34m)\u001b[0m\u001b[0;34m\u001b[0m\u001b[0;34m\u001b[0m\u001b[0m\n\u001b[1;32m     95\u001b[0m     \u001b[0;32mif\u001b[0m \u001b[0mreply\u001b[0m \u001b[0;34m==\u001b[0m \u001b[0m_NOT_READY\u001b[0m \u001b[0;32mor\u001b[0m \u001b[0;32mnot\u001b[0m \u001b[0misinstance\u001b[0m\u001b[0;34m(\u001b[0m\u001b[0mreply\u001b[0m\u001b[0;34m,\u001b[0m \u001b[0mdict\u001b[0m\u001b[0;34m)\u001b[0m\u001b[0;34m:\u001b[0m\u001b[0;34m\u001b[0m\u001b[0;34m\u001b[0m\u001b[0m\n\u001b[0;32m---> 96\u001b[0;31m       \u001b[0mtime\u001b[0m\u001b[0;34m.\u001b[0m\u001b[0msleep\u001b[0m\u001b[0;34m(\u001b[0m\u001b[0;36m0.025\u001b[0m\u001b[0;34m)\u001b[0m\u001b[0;34m\u001b[0m\u001b[0;34m\u001b[0m\u001b[0m\n\u001b[0m\u001b[1;32m     97\u001b[0m       \u001b[0;32mcontinue\u001b[0m\u001b[0;34m\u001b[0m\u001b[0;34m\u001b[0m\u001b[0m\n\u001b[1;32m     98\u001b[0m     if (\n",
            "\u001b[0;31mKeyboardInterrupt\u001b[0m: "
          ]
        }
      ]
    },
    {
      "cell_type": "code",
      "source": [
        "model_dis_url = 'https://drive.google.com/file/d/1--sJNJMLFvAz77HjiB8is8DDHOfY0FBG/view?usp=sharing'\n",
        "test_dis(test_file, MODEL_PATH, model_dis_url)"
      ],
      "metadata": {
        "colab": {
          "base_uri": "https://localhost:8080/",
          "height": 244
        },
        "id": "21nlQsMVRTJe",
        "outputId": "5fc5ce41-4fc3-48b8-da65-1dcd1d9d8cde"
      },
      "execution_count": 66,
      "outputs": [
        {
          "output_type": "stream",
          "name": "stdout",
          "text": [
            "\n",
            " Start by downloading model\n",
            "File downloaded successfully! gdrive/MyDrive/./CE807-24-SP/Assignment/model/2314555/test.zip\n",
            "Model downloaded to gdrive/MyDrive/./CE807-24-SP/Assignment/model/2314555/test.zip\n",
            "Extracted a zip file to gdrive/MyDrive/./CE807-24-SP/Assignment/model/2314555/test/\n",
            "\n",
            " Model is downloaded to  gdrive/MyDrive/./CE807-24-SP/Assignment/model/2314555/test/\n",
            "\n",
            " Data is loaded from gdrive/MyDrive/./CE807-24-SP/Assignment/data/5/test.csv\n",
            "Loaded model from  gdrive/MyDrive/./CE807-24-SP/Assignment/model/2314555/test/Model_Dis/model.sav\n",
            "\n",
            " Output is save in  gdrive/MyDrive/./CE807-24-SP/Assignment/data/5/test.csv\n"
          ]
        },
        {
          "output_type": "execute_result",
          "data": {
            "text/plain": [
              "'gdrive/MyDrive/./CE807-24-SP/Assignment/data/5/test.csv'"
            ],
            "application/vnd.google.colaboratory.intrinsic+json": {
              "type": "string"
            }
          },
          "metadata": {},
          "execution_count": 66
        }
      ]
    },
    {
      "cell_type": "markdown",
      "source": [
        "##Other Method/model End"
      ],
      "metadata": {
        "id": "7yMswIeAwYIf"
      }
    }
  ]
}